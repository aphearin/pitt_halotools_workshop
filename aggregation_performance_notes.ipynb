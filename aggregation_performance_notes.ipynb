{
 "metadata": {
  "name": "",
  "signature": "sha256:18b7c5c0bae69d6baa63a002a71613706dee80fab404a2a3be4466b7903e2117"
 },
 "nbformat": 3,
 "nbformat_minor": 0,
 "worksheets": [
  {
   "cells": [
    {
     "cell_type": "heading",
     "level": 1,
     "metadata": {},
     "source": [
      "Optimizing the aggregation calculation"
     ]
    },
    {
     "cell_type": "markdown",
     "metadata": {},
     "source": [
      "It turns out that running a `for` loop over an Astropy `Table` or `Column` object is very slow compared to, say, looping over a Fortran or C array. This is a specific example of a very general principle of code optimization: it is almost always faster to work with low-level objects. The Astropy `Table` or `Column` data structures have many accoutrements that take you very far \"away from the chip\". The closer you are to the chip, the faster your code typically runs. \n",
      "\n",
      "Fortunately, Astropy gives you a very straightforward workaround: using the `.data` attibute of a `Column` object gives you direct access to the underlying `Numpy` array. To see that in action, let's first regenerate the same fake data we used in the previous notebook.\n"
     ]
    },
    {
     "cell_type": "code",
     "collapsed": false,
     "input": [
      "Ntotal = 1e6\n",
      "Nhosts = 3e5\n",
      "Nsubhalos = Ntotal - Nhosts\n",
      "\n",
      "halo_id = np.arange(Ntotal, dtype=int)\n",
      "np.random.shuffle(halo_id)\n",
      "\n",
      "upid = np.zeros(Ntotal, dtype=int) - 1 # initialize all values to -1\n",
      "upid[Nhosts:] = np.random.choice(halo_id[0:Nhosts], Nsubhalos)\n",
      "\n",
      "mvir = np.zeros(Ntotal)\n",
      "mvir[0:Nhosts] = np.random.uniform(1e14, 1e15, len(mvir[0:Nhosts]))\n",
      "mvir[Nhosts:] = np.random.uniform(1e10, 1e12, len(mvir[Nhosts:]))\n",
      "\n",
      "spin = np.random.random(Ntotal)\n",
      "\n",
      "from astropy.table import Table\n",
      "t = Table({'halo_id': halo_id, 'halo_upid': upid, \n",
      "           'halo_mvir': mvir, 'halo_spin': spin})\n",
      "\n",
      "host_halo_mask = t['halo_upid'] == -1\n",
      "t['halo_hostid'] = 0\n",
      "t['halo_hostid'][host_halo_mask] = t['halo_id'][host_halo_mask]\n",
      "t['halo_hostid'][~host_halo_mask] = t['halo_upid'][~host_halo_mask]\n",
      "\n",
      "t.sort(['halo_hostid', 'halo_upid'])"
     ],
     "language": "python",
     "metadata": {},
     "outputs": [],
     "prompt_number": 4
    },
    {
     "cell_type": "heading",
     "level": 2,
     "metadata": {},
     "source": [
      "Using the `.data` trick"
     ]
    },
    {
     "cell_type": "code",
     "collapsed": false,
     "input": [
      "halo_ids_of_hosts_old, idx_hosts_old, host_richness_old = np.unique(t['halo_hostid'], \n",
      "                                                        return_index = True, \n",
      "                                                        return_counts = True)    "
     ],
     "language": "python",
     "metadata": {},
     "outputs": [],
     "prompt_number": 5
    },
    {
     "cell_type": "code",
     "collapsed": false,
     "input": [
      "halo_ids_of_hosts, idx_hosts, host_richness = np.unique(t['halo_hostid'].data, \n",
      "                                                        return_index = True, \n",
      "                                                        return_counts = True)    "
     ],
     "language": "python",
     "metadata": {},
     "outputs": [],
     "prompt_number": 6
    },
    {
     "cell_type": "code",
     "collapsed": false,
     "input": [
      "print(type(halo_ids_of_hosts_old))\n",
      "print(type(halo_ids_of_hosts))"
     ],
     "language": "python",
     "metadata": {},
     "outputs": [
      {
       "output_type": "stream",
       "stream": "stdout",
       "text": [
        "<class 'astropy.table.column.Column'>\n",
        "<type 'numpy.ndarray'>\n"
       ]
      }
     ],
     "prompt_number": 7
    },
    {
     "cell_type": "markdown",
     "metadata": {},
     "source": [
      "Note the difference in the type? Look carefully at cells 5 & 6 to see what's going on. "
     ]
    },
    {
     "cell_type": "heading",
     "level": 2,
     "metadata": {},
     "source": [
      "Speedup demonstration"
     ]
    },
    {
     "cell_type": "markdown",
     "metadata": {},
     "source": [
      "Now we'll just copy and paste our previous code into the namespace of a callable function so that we can use the `timeit` magic function. \n",
      "\n",
      "First, the table-based calculation:"
     ]
    },
    {
     "cell_type": "code",
     "collapsed": false,
     "input": [
      "def table_based_calculation(t):\n",
      "    \n",
      "    t['Mhost'] = 0.\n",
      "\n",
      "    halo_ids_of_hosts, idx_hosts, host_richness = np.unique(t['halo_hostid'], \n",
      "                                                        return_index = True, \n",
      "                                                        return_counts = True) \n",
      "    \n",
      "    for ihost, host_halo_id in enumerate(halo_ids_of_hosts):\n",
      "        first_ihost_idx = idx_hosts[ihost]\n",
      "        last_ihost_idx = first_ihost_idx + host_richness[ihost]\n",
      "        t['Mhost'][first_ihost_idx:last_ihost_idx] = t['halo_mvir'][first_ihost_idx]"
     ],
     "language": "python",
     "metadata": {},
     "outputs": [],
     "prompt_number": 8
    },
    {
     "cell_type": "code",
     "collapsed": false,
     "input": [
      "def array_based_calculation(t):\n",
      "    \n",
      "    t['Mhost'] = 0.\n",
      "    \n",
      "    halo_ids_of_hosts, idx_hosts, host_richness = np.unique(t['halo_hostid'].data, \n",
      "                                                        return_index = True, \n",
      "                                                        return_counts = True) \n",
      "    \n",
      "    for ihost, host_halo_id in enumerate(halo_ids_of_hosts):\n",
      "        first_ihost_idx = idx_hosts[ihost]\n",
      "        last_ihost_idx = first_ihost_idx + host_richness[ihost]\n",
      "        t['Mhost'][first_ihost_idx:last_ihost_idx] = t['halo_mvir'][first_ihost_idx]"
     ],
     "language": "python",
     "metadata": {},
     "outputs": [],
     "prompt_number": 9
    },
    {
     "cell_type": "code",
     "collapsed": false,
     "input": [
      "%timeit table_based_calculation(t)"
     ],
     "language": "python",
     "metadata": {},
     "outputs": [
      {
       "output_type": "stream",
       "stream": "stdout",
       "text": [
        "1 loops, best of 3: 2.32 s per loop\n"
       ]
      }
     ],
     "prompt_number": 10
    },
    {
     "cell_type": "code",
     "collapsed": false,
     "input": [
      "%timeit array_based_calculation(t)"
     ],
     "language": "python",
     "metadata": {},
     "outputs": [
      {
       "output_type": "stream",
       "stream": "stdout",
       "text": [
        "1 loops, best of 3: 1.73 s per loop\n"
       ]
      }
     ],
     "prompt_number": 11
    },
    {
     "cell_type": "markdown",
     "metadata": {},
     "source": [
      "Just like that, a 30% speedup! But we can do better if we keep grinding. "
     ]
    },
    {
     "cell_type": "heading",
     "level": 2,
     "metadata": {},
     "source": [
      "Stripping it all down to arrays"
     ]
    },
    {
     "cell_type": "markdown",
     "metadata": {},
     "source": [
      "Ok, we changed the `for` loop iterable to an array and that sped things up, but notice how in the final line of that loop we're still accessing slices of the column object. Let's fix that so that we only read and write from plain arrays, and just write to the column at the end. "
     ]
    },
    {
     "cell_type": "code",
     "collapsed": false,
     "input": [
      "def fully_array_based_calculation(t):\n",
      "    \n",
      "    t['Mhost'] = 0.\n",
      "    \n",
      "    halo_ids_of_hosts, idx_hosts, host_richness = np.unique(t['halo_hostid'].data, \n",
      "                                                        return_index = True, \n",
      "                                                        return_counts = True) \n",
      "    \n",
      "    temp_arr = np.zeros(len(t))\n",
      "    halo_mvir_array = t['halo_mvir'].data\n",
      "    \n",
      "    for ihost, host_halo_id in enumerate(halo_ids_of_hosts):\n",
      "        first_ihost_idx = idx_hosts[ihost]\n",
      "        last_ihost_idx = first_ihost_idx + host_richness[ihost]\n",
      "        temp_arr[first_ihost_idx:last_ihost_idx] = halo_mvir_array[first_ihost_idx]\n",
      "        \n",
      "    t['Mhost'] = temp_arr"
     ],
     "language": "python",
     "metadata": {},
     "outputs": [],
     "prompt_number": 13
    },
    {
     "cell_type": "code",
     "collapsed": false,
     "input": [
      "%timeit fully_array_based_calculation(t)"
     ],
     "language": "python",
     "metadata": {},
     "outputs": [
      {
       "output_type": "stream",
       "stream": "stdout",
       "text": [
        "1 loops, best of 3: 294 ms per loop\n"
       ]
      }
     ],
     "prompt_number": 14
    },
    {
     "cell_type": "markdown",
     "metadata": {},
     "source": [
      "How about that? 575% speedup!"
     ]
    },
    {
     "cell_type": "heading",
     "level": 2,
     "metadata": {},
     "source": [
      "Cythonizing the loop"
     ]
    },
    {
     "cell_type": "markdown",
     "metadata": {},
     "source": [
      "We take this one step further and cythonize our `for` loop. If you haven't looked at `cython_speedup_demo.ipynb` yet, see that notebook first before the following code will make sense. \n",
      "\n",
      "The only new piece here is just the step where we use `cimport` so that we can declare a `Numpy` array in C in the argument to `cythonized_array_based_calculation`. Notice that it looks like we import `Numpy` twice. This is a boilerplate trick for using `Numpy` with `Cython`. If you want to be able to declare `Numpy dtypes` in C, you use `cimport`, choosing a different shorthand `cnp` as good practice; if you want to use `Numpy` *methods*, just import it as you normally would. "
     ]
    },
    {
     "cell_type": "code",
     "collapsed": false,
     "input": [
      "%load_ext cythonmagic"
     ],
     "language": "python",
     "metadata": {},
     "outputs": [],
     "prompt_number": 2
    },
    {
     "cell_type": "code",
     "collapsed": false,
     "input": [
      "%%cython\n",
      "\n",
      "import numpy as np \n",
      "cimport numpy as cnp \n",
      "\n",
      "def cythonized_array_based_calculation(cnp.ndarray halo_hostid, cnp.ndarray halo_mvir_array):\n",
      "        \n",
      "    halo_ids_of_hosts, idx_hosts, host_richness = np.unique(halo_hostid, \n",
      "                                                        return_index = True, \n",
      "                                                        return_counts = True) \n",
      "    \n",
      "    temp_arr = np.zeros(len(halo_hostid))\n",
      "    \n",
      "    cdef int ihost, host_halo_id \n",
      "    cdef int first_ihost_idx, last_ihost_idx\n",
      "    \n",
      "    for ihost, host_halo_id in enumerate(halo_ids_of_hosts):\n",
      "        first_ihost_idx = idx_hosts[ihost]\n",
      "        last_ihost_idx = first_ihost_idx + host_richness[ihost]\n",
      "        temp_arr[first_ihost_idx:last_ihost_idx] = halo_mvir_array[first_ihost_idx]\n",
      "        \n",
      "    return temp_arr\n",
      "        \n"
     ],
     "language": "python",
     "metadata": {},
     "outputs": [],
     "prompt_number": 3
    },
    {
     "cell_type": "code",
     "collapsed": false,
     "input": [
      "%timeit x = cythonized_array_based_calculation(t['halo_hostid'].data, t['halo_mvir'].data)"
     ],
     "language": "python",
     "metadata": {},
     "outputs": [
      {
       "output_type": "stream",
       "stream": "stdout",
       "text": [
        "10 loops, best of 3: 184 ms per loop\n"
       ]
      }
     ],
     "prompt_number": 17
    },
    {
     "cell_type": "markdown",
     "metadata": {},
     "source": [
      "Another 60% gain by avoiding all of Python's type-checking and taking advantage of the auto-optimization flags used by the `cython` compiler. "
     ]
    },
    {
     "cell_type": "code",
     "collapsed": false,
     "input": [],
     "language": "python",
     "metadata": {},
     "outputs": []
    }
   ],
   "metadata": {}
  }
 ]
}