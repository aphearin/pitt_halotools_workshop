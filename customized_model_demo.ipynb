{
 "metadata": {
  "name": "",
  "signature": "sha256:0d34d6ad7e8ca0529376d4e3f9eba830e1fae48cf545e68cd499a11fd596f35e"
 },
 "nbformat": 3,
 "nbformat_minor": 0,
 "worksheets": [
  {
   "cells": [
    {
     "cell_type": "heading",
     "level": 1,
     "metadata": {},
     "source": [
      "Designing your own HOD model"
     ]
    },
    {
     "cell_type": "heading",
     "level": 2,
     "metadata": {},
     "source": [
      "The `zheng07` prebuilt model under-the-hood"
     ]
    },
    {
     "cell_type": "code",
     "collapsed": false,
     "input": [
      "from halotools.empirical_models import HodModelFactory"
     ],
     "language": "python",
     "metadata": {},
     "outputs": [],
     "prompt_number": 1
    },
    {
     "cell_type": "markdown",
     "metadata": {},
     "source": [
      "We'll start with the features for the population of centrals:\n"
     ]
    },
    {
     "cell_type": "code",
     "collapsed": false,
     "input": [
      "from halotools.empirical_models import TrivialPhaseSpace, Zheng07Cens\n",
      "cens_occ_model =  Zheng07Cens(threshold = -20.5)\n",
      "cens_prof_model = TrivialPhaseSpace()"
     ],
     "language": "python",
     "metadata": {},
     "outputs": [],
     "prompt_number": 2
    },
    {
     "cell_type": "markdown",
     "metadata": {},
     "source": [
      "Now for the satellites:\n"
     ]
    },
    {
     "cell_type": "code",
     "collapsed": false,
     "input": [
      "from halotools.empirical_models import NFWPhaseSpace, Zheng07Sats\n",
      "sats_occ_model =  Zheng07Sats(threshold = -20.5)\n",
      "sats_prof_model = NFWPhaseSpace()"
     ],
     "language": "python",
     "metadata": {},
     "outputs": [],
     "prompt_number": 3
    },
    {
     "cell_type": "markdown",
     "metadata": {},
     "source": [
      "At this point we have our component model instances. \n",
      "The following call to the factory uses the ``model_features`` option \n",
      "described above:"
     ]
    },
    {
     "cell_type": "code",
     "collapsed": false,
     "input": [
      "model_instance = HodModelFactory(centrals_occupation = cens_occ_model, \n",
      "                                 centrals_profile = cens_prof_model, \n",
      "                                 satellites_occupation = sats_occ_model, \n",
      "                                 satellites_profile = sats_prof_model)"
     ],
     "language": "python",
     "metadata": {},
     "outputs": [],
     "prompt_number": 4
    },
    {
     "cell_type": "code",
     "collapsed": false,
     "input": [
      "model_instance.populate_mock(simname = 'bolshoi')"
     ],
     "language": "python",
     "metadata": {},
     "outputs": [],
     "prompt_number": 5
    },
    {
     "cell_type": "heading",
     "level": 2,
     "metadata": {},
     "source": [
      "Adding a new Halotools-provided feature"
     ]
    },
    {
     "cell_type": "code",
     "collapsed": false,
     "input": [
      "from halotools.empirical_models import BinaryGalpropInterpolModel"
     ],
     "language": "python",
     "metadata": {},
     "outputs": [],
     "prompt_number": 6
    },
    {
     "cell_type": "code",
     "collapsed": false,
     "input": [
      "quenched_frac_abcissa = [12, 15]\n",
      "quenched_frac_ordinates = [0.25, 0.75]\n",
      "\n",
      "quenching_centrals = BinaryGalpropInterpolModel(galprop_name = 'quiescent', \n",
      "                    prim_haloprop_key = 'halo_mvir', \n",
      "                    abcissa = quenched_frac_abcissa, \n",
      "                    ordinates = quenched_frac_ordinates, \n",
      "                    logparam = True, \n",
      "                    gal_type = 'centrals')\n"
     ],
     "language": "python",
     "metadata": {},
     "outputs": [],
     "prompt_number": 7
    },
    {
     "cell_type": "code",
     "collapsed": false,
     "input": [
      "quenched_frac_abcissa2 = [12, 13.5, 15]\n",
      "quenched_frac_ordinates2 = [0.25, 0.75, 0.95]\n",
      "quenching_satellites = BinaryGalpropInterpolModel(galprop_name = 'quiescent', \n",
      "                    prim_haloprop_key = 'halo_mvir', \n",
      "                    abcissa = quenched_frac_abcissa2, \n",
      "                    ordinates = quenched_frac_ordinates2, \n",
      "                    logparam = True, \n",
      "                    gal_type = 'satellites')\n"
     ],
     "language": "python",
     "metadata": {},
     "outputs": [],
     "prompt_number": 8
    },
    {
     "cell_type": "code",
     "collapsed": false,
     "input": [
      "new_model_from_existing = HodModelFactory(centrals_quenching = quenching_centrals, \n",
      "                            satellites_quenching = quenching_satellites,\n",
      "                            baseline_model_instance = model_instance)"
     ],
     "language": "python",
     "metadata": {},
     "outputs": [],
     "prompt_number": 9
    },
    {
     "cell_type": "code",
     "collapsed": false,
     "input": [
      "new_model_from_existing.populate_mock()"
     ],
     "language": "python",
     "metadata": {},
     "outputs": [],
     "prompt_number": 10
    },
    {
     "cell_type": "markdown",
     "metadata": {},
     "source": [
      "Now see that our `galaxy_table` has a new `quiescent` attribute:"
     ]
    },
    {
     "cell_type": "code",
     "collapsed": false,
     "input": [
      "print(new_model_from_existing.mock.galaxy_table.keys())"
     ],
     "language": "python",
     "metadata": {},
     "outputs": [
      {
       "output_type": "stream",
       "stream": "stdout",
       "text": [
        "['conc_NFWmodel', 'halo_y', 'halo_x', 'halo_z', 'halo_vx', 'halo_vy', 'halo_vz', 'halo_rvir', 'halo_mvir', 'halo_id', 'halo_num_satellites', 'halo_num_centrals', 'gal_type', 'vx', 'quiescent', 'host_centric_distance', 'vy', 'y', 'x', 'vz', 'z']\n"
       ]
      }
     ],
     "prompt_number": 11
    },
    {
     "cell_type": "code",
     "collapsed": false,
     "input": [
      "print(new_model_from_existing.mock.galaxy_table['quiescent'][0:10])"
     ],
     "language": "python",
     "metadata": {},
     "outputs": [
      {
       "output_type": "stream",
       "stream": "stdout",
       "text": [
        "quiescent\n",
        "---------\n",
        "     True\n",
        "     True\n",
        "    False\n",
        "     True\n",
        "     True\n",
        "    False\n",
        "     True\n",
        "    False\n",
        "    False\n",
        "    False\n"
       ]
      }
     ],
     "prompt_number": 12
    },
    {
     "cell_type": "heading",
     "level": 2,
     "metadata": {},
     "source": [
      "Using a component model that you write"
     ]
    },
    {
     "cell_type": "markdown",
     "metadata": {},
     "source": [
      "Here we'll build an HOD model that is identical to `zheng07` in every respect, except central galaxies exclusively live in cluster-mass halos. \n",
      "We'll do this by writing our own `OccupationComponent`, which is the template class that controls the abundance of galaxies in *all* HOD-style models in Halotools. "
     ]
    },
    {
     "cell_type": "code",
     "collapsed": false,
     "input": [
      "from halotools.empirical_models import OccupationComponent, model_defaults"
     ],
     "language": "python",
     "metadata": {},
     "outputs": [],
     "prompt_number": 13
    },
    {
     "cell_type": "code",
     "collapsed": false,
     "input": [
      "class MyOccupationComponent(OccupationComponent):\n",
      "    \n",
      "    def __init__(self, prim_haloprop_key = 'halo_mvir', \n",
      "                 threshold = model_defaults.default_luminosity_threshold, \n",
      "                 **kwargs):\n",
      "        \n",
      "        # We call the constructor of the super class, \n",
      "        # passing the required arguments\n",
      "        OccupationComponent.__init__(self, gal_type='centrals', \n",
      "            threshold=threshold, \n",
      "            upper_occupation_bound=1.0, \n",
      "            prim_haloprop_key=prim_haloprop_key, **kwargs)\n",
      "        \n",
      "    def mean_occupation(self, **kwargs):\n",
      "        \n",
      "        # Retrieve the array storing the mass-like variable\n",
      "        # This is boilerplate syntax that is used throughout the package\n",
      "        if 'table' in kwargs.keys():\n",
      "            mass = kwargs['table'][self.prim_haloprop_key]\n",
      "        elif 'prim_haloprop' in kwargs.keys():\n",
      "            mass = kwargs['prim_haloprop']\n",
      "\n",
      "        return np.where(mass > 1e14, 1, 0)"
     ],
     "language": "python",
     "metadata": {},
     "outputs": [],
     "prompt_number": 14
    },
    {
     "cell_type": "markdown",
     "metadata": {},
     "source": [
      "That's it! The rest is up to Halotools to figure out. "
     ]
    },
    {
     "cell_type": "code",
     "collapsed": false,
     "input": [
      "alt_cenocc_model = MyOccupationComponent(threshold = -20.5)"
     ],
     "language": "python",
     "metadata": {},
     "outputs": [],
     "prompt_number": 15
    },
    {
     "cell_type": "code",
     "collapsed": false,
     "input": [
      "new_model_from_existing = HodModelFactory(baseline_model_instance = model_instance, \n",
      "                            centrals_occupation = alt_cenocc_model)"
     ],
     "language": "python",
     "metadata": {},
     "outputs": [],
     "prompt_number": 16
    },
    {
     "cell_type": "code",
     "collapsed": false,
     "input": [
      "new_model_from_existing.populate_mock()"
     ],
     "language": "python",
     "metadata": {},
     "outputs": [],
     "prompt_number": 17
    },
    {
     "cell_type": "code",
     "collapsed": false,
     "input": [
      "gals = new_model_from_existing.mock.galaxy_table"
     ],
     "language": "python",
     "metadata": {},
     "outputs": [],
     "prompt_number": 18
    },
    {
     "cell_type": "code",
     "collapsed": false,
     "input": [
      "cenmask = gals['gal_type'] == 'centrals'"
     ],
     "language": "python",
     "metadata": {},
     "outputs": [],
     "prompt_number": 19
    },
    {
     "cell_type": "code",
     "collapsed": false,
     "input": [
      "print(gals['halo_mvir'][cenmask].min())"
     ],
     "language": "python",
     "metadata": {},
     "outputs": [
      {
       "output_type": "stream",
       "stream": "stdout",
       "text": [
        "1.007e+14\n"
       ]
      }
     ],
     "prompt_number": 20
    },
    {
     "cell_type": "heading",
     "level": 2,
     "metadata": {},
     "source": [
      "Building models with inter-dependencies"
     ]
    },
    {
     "cell_type": "code",
     "collapsed": false,
     "input": [
      "from halotools.empirical_models import HodModelFactory"
     ],
     "language": "python",
     "metadata": {},
     "outputs": [],
     "prompt_number": 1
    },
    {
     "cell_type": "code",
     "collapsed": false,
     "input": [
      "class Size(object):\n",
      "    \n",
      "    def __init__(self, gal_type):\n",
      "        self.gal_type = gal_type\n",
      "        \n",
      "        self._mock_generation_calling_sequence = ['assign_size']\n",
      "        \n",
      "        self._methods_to_inherit = list(('assign_size', \n",
      "                'any_model_related_calculation'))\n",
      "        \n",
      "        self._galprop_dtypes_to_allocate = np.dtype([('galsize', 'f4')])\n",
      "    \n",
      "        self.list_of_haloprops_needed = ['halo_spin']\n",
      "        \n",
      "    def assign_size(self, **kwargs):\n",
      "        \n",
      "        table = kwargs['table']\n",
      "        table['galsize'][:] = table['halo_spin']/5.\n",
      "        \n",
      "    def any_model_related_calculation(self, **kwargs):\n",
      "        pass"
     ],
     "language": "python",
     "metadata": {},
     "outputs": [],
     "prompt_number": 2
    },
    {
     "cell_type": "code",
     "collapsed": false,
     "input": [
      "class Shape(object):\n",
      "    \n",
      "    def __init__(self, gal_type):\n",
      "        self.gal_type = gal_type\n",
      "        \n",
      "        self._mock_generation_calling_sequence = ['assign_shape']\n",
      "        \n",
      "        self._methods_to_inherit = ['assign_shape']\n",
      "        \n",
      "        self._galprop_dtypes_to_allocate = np.dtype([('galshape', 'f4')])\n",
      "    \n",
      "    def assign_shape(self, **kwargs):\n",
      "        \n",
      "        table = kwargs['table']\n",
      "        table['galshape'][:] = table['galsize']/5."
     ],
     "language": "python",
     "metadata": {},
     "outputs": [],
     "prompt_number": 3
    },
    {
     "cell_type": "code",
     "collapsed": false,
     "input": [
      "censize = Size('centrals')\n",
      "satsize = Size('satellites')\n",
      "censhape = Shape('centrals')\n",
      "satshape = Size('satellites')"
     ],
     "language": "python",
     "metadata": {},
     "outputs": [],
     "prompt_number": 4
    },
    {
     "cell_type": "code",
     "collapsed": false,
     "input": [
      "from halotools.empirical_models import PrebuiltHodModelFactory\n",
      "zheng07 = PrebuiltHodModelFactory('zheng07')"
     ],
     "language": "python",
     "metadata": {},
     "outputs": [],
     "prompt_number": 5
    },
    {
     "cell_type": "code",
     "collapsed": false,
     "input": [
      "model_feature_calling_sequence = list(('centrals_occupation', \n",
      "            'satellites_occupation', 'centrals_profile', \n",
      "            'satellites_profile', 'satellites_size', \n",
      "            'centrals_size', 'centrals_shape', 'satellites_shape'))\n",
      "\n",
      "new_model = HodModelFactory(baseline_model_instance = zheng07, \n",
      "        centrals_shape = censhape, \n",
      "        centrals_size = censize, \n",
      "        satellites_shape = satshape, \n",
      "        satellites_size = satsize, \n",
      "        model_feature_calling_sequence=model_feature_calling_sequence)"
     ],
     "language": "python",
     "metadata": {},
     "outputs": [],
     "prompt_number": 6
    },
    {
     "cell_type": "code",
     "collapsed": false,
     "input": [
      "new_model.populate_mock()"
     ],
     "language": "python",
     "metadata": {},
     "outputs": [],
     "prompt_number": 7
    },
    {
     "cell_type": "code",
     "collapsed": false,
     "input": [
      "print(new_model.mock.galaxy_table.keys())"
     ],
     "language": "python",
     "metadata": {},
     "outputs": [
      {
       "output_type": "stream",
       "stream": "stdout",
       "text": [
        "['halo_spin', 'halo_y', 'halo_x', 'halo_z', 'halo_vx', 'halo_vy', 'halo_vz', 'conc_NFWmodel', 'halo_rvir', 'halo_mvir', 'halo_id', 'halo_num_satellites', 'halo_num_centrals', 'gal_type', 'galsize', 'galshape', 'vx', 'host_centric_distance', 'vy', 'y', 'x', 'vz', 'z']\n"
       ]
      }
     ],
     "prompt_number": 8
    },
    {
     "cell_type": "markdown",
     "metadata": {},
     "source": [
      "Let's look at the methods this composite model has"
     ]
    },
    {
     "cell_type": "code",
     "collapsed": false,
     "input": [
      "new_model."
     ],
     "language": "python",
     "metadata": {},
     "outputs": []
    }
   ],
   "metadata": {}
  }
 ]
}