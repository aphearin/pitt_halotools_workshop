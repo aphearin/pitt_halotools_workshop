{
 "metadata": {
  "name": "",
  "signature": "sha256:e60ed6975cf947752d0b5d0b69cfdb724130689b28e53ce6e980afd425dccc6a"
 },
 "nbformat": 3,
 "nbformat_minor": 0,
 "worksheets": [
  {
   "cells": [
    {
     "cell_type": "markdown",
     "metadata": {},
     "source": [
      "# Lightning Tour of Python Classes"
     ]
    },
    {
     "cell_type": "markdown",
     "metadata": {},
     "source": [
      "These notes provide a barebones intro for how to write your own classes in python. There is an endless supply of information about this on the web. A good place to start is https://docs.python.org/2/tutorial/classes.html. But let's just dive in. "
     ]
    },
    {
     "cell_type": "markdown",
     "metadata": {},
     "source": [
      "## My first class"
     ]
    },
    {
     "cell_type": "code",
     "collapsed": false,
     "input": [
      "class MyFirstClass(object):\n",
      "    \n",
      "    def my_function(self, x):\n",
      "        return x"
     ],
     "language": "python",
     "metadata": {},
     "outputs": [],
     "prompt_number": 1
    },
    {
     "cell_type": "code",
     "collapsed": false,
     "input": [
      "c1 = MyFirstClass()"
     ],
     "language": "python",
     "metadata": {},
     "outputs": [],
     "prompt_number": 2
    },
    {
     "cell_type": "code",
     "collapsed": false,
     "input": [
      "print(c1.my_function(40))"
     ],
     "language": "python",
     "metadata": {},
     "outputs": [
      {
       "output_type": "stream",
       "stream": "stdout",
       "text": [
        "40\n"
       ]
      }
     ],
     "prompt_number": 3
    },
    {
     "cell_type": "markdown",
     "metadata": {},
     "source": [
      "** Syntax note:** All methods you write inside a class should accept ``self`` as the first argument. As we will see, this is so data can be passed around from method to method, but the \"outside world\" ignores this argument. Until you get comfortable writing your own classes, just treat this syntax as boilerplate and always use it. "
     ]
    },
    {
     "cell_type": "markdown",
     "metadata": {},
     "source": [
      "### Let's bind some more data"
     ]
    },
    {
     "cell_type": "markdown",
     "metadata": {},
     "source": [
      "Once you have a class instance, you can bind whatever data to it that you want:"
     ]
    },
    {
     "cell_type": "code",
     "collapsed": false,
     "input": [
      "c1.y = 100"
     ],
     "language": "python",
     "metadata": {},
     "outputs": [],
     "prompt_number": 4
    },
    {
     "cell_type": "code",
     "collapsed": false,
     "input": [
      "print(c1.y)\n",
      "print(type(c1.y))"
     ],
     "language": "python",
     "metadata": {},
     "outputs": [
      {
       "output_type": "stream",
       "stream": "stdout",
       "text": [
        "100\n",
        "<type 'int'>\n"
       ]
      }
     ],
     "prompt_number": 15
    },
    {
     "cell_type": "code",
     "collapsed": false,
     "input": [
      "some_dictionary = {'a': 3, 'b': 100}\n",
      "print(some_dictionary['b'])\n",
      "print(type(some_dictionary))"
     ],
     "language": "python",
     "metadata": {},
     "outputs": [
      {
       "output_type": "stream",
       "stream": "stdout",
       "text": [
        "100\n",
        "<type 'dict'>\n"
       ]
      }
     ],
     "prompt_number": 17
    },
    {
     "cell_type": "code",
     "collapsed": false,
     "input": [
      "c1.z = some_dictionary"
     ],
     "language": "python",
     "metadata": {},
     "outputs": [],
     "prompt_number": 12
    },
    {
     "cell_type": "code",
     "collapsed": false,
     "input": [
      "print(c1.z['b'])\n",
      "print(type(c1.z))"
     ],
     "language": "python",
     "metadata": {},
     "outputs": [
      {
       "output_type": "stream",
       "stream": "stdout",
       "text": [
        "100\n",
        "<type 'dict'>\n"
       ]
      }
     ],
     "prompt_number": 16
    },
    {
     "cell_type": "markdown",
     "metadata": {},
     "source": [
      "## My second class"
     ]
    },
    {
     "cell_type": "markdown",
     "metadata": {},
     "source": [
      "Python classes have a special method called `__init__`. This is the method that is always run when the class is instantiated. "
     ]
    },
    {
     "cell_type": "code",
     "collapsed": false,
     "input": [
      "class MySecondClass(object):\n",
      "    \n",
      "    def __init__(self):\n",
      "        \"\"\" The value of ``y`` gets bound to ``self``. \n",
      "        Now all the methods of MySecondClass know what the value of ``self.y`` is.\n",
      "        \"\"\"\n",
      "        self.y = 100\n",
      "    \n",
      "    def my_function(self, x):\n",
      "        \"\"\"\n",
      "        \"\"\"\n",
      "        return self.y + x"
     ],
     "language": "python",
     "metadata": {},
     "outputs": [],
     "prompt_number": 6
    },
    {
     "cell_type": "code",
     "collapsed": false,
     "input": [
      "c2 = MySecondClass()"
     ],
     "language": "python",
     "metadata": {},
     "outputs": [],
     "prompt_number": 7
    },
    {
     "cell_type": "code",
     "collapsed": false,
     "input": [
      "print(c2.y)"
     ],
     "language": "python",
     "metadata": {},
     "outputs": [
      {
       "output_type": "stream",
       "stream": "stdout",
       "text": [
        "100\n"
       ]
      }
     ],
     "prompt_number": 8
    },
    {
     "cell_type": "code",
     "collapsed": false,
     "input": [
      "print(c2.my_function(40))"
     ],
     "language": "python",
     "metadata": {},
     "outputs": [
      {
       "output_type": "stream",
       "stream": "stdout",
       "text": [
        "140\n"
       ]
      }
     ],
     "prompt_number": 9
    },
    {
     "cell_type": "markdown",
     "metadata": {},
     "source": [
      "## My third class"
     ]
    },
    {
     "cell_type": "markdown",
     "metadata": {},
     "source": [
      "The `__init__` method accepts arguments just like any other function. "
     ]
    },
    {
     "cell_type": "code",
     "collapsed": false,
     "input": [
      "class MySecondClass(object):\n",
      "    \n",
      "    def __init__(self):\n",
      "        self.y = 100\n",
      "    \n",
      "    def my_function(self, x):\n",
      "        return self.y + x"
     ],
     "language": "python",
     "metadata": {},
     "outputs": [],
     "prompt_number": 10
    },
    {
     "cell_type": "code",
     "collapsed": false,
     "input": [],
     "language": "python",
     "metadata": {},
     "outputs": [],
     "prompt_number": 10
    }
   ],
   "metadata": {}
  }
 ]
}