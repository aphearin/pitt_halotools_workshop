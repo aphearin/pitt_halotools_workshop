{
 "metadata": {
  "name": "",
  "signature": "sha256:a364f2f6c2cf92ada9cb0ee35e718be6b2801ecc099bc5b24749d2e92b8f5f24"
 },
 "nbformat": 3,
 "nbformat_minor": 0,
 "worksheets": [
  {
   "cells": [
    {
     "cell_type": "heading",
     "level": 1,
     "metadata": {},
     "source": [
      "Cythonizing your loops"
     ]
    },
    {
     "cell_type": "markdown",
     "metadata": {},
     "source": [
      "Have a look at `cython_demo.pyx` and `pure_python.py`. These modules define the same function that computes the Nth prime number. Nevermind the algorithm, which is just a silly brute force calculation. The point is just to start from code that runs an expensive loop that cannot be vectorized. Pull both of these modules up in a text editor and see how similar they are. \n",
      "\n",
      "Before being able to import the following code, you will need to compile the cython as follows:\n",
      "\n",
      "$ python setup.py build_ext --inplace\n",
      "\n",
      "Also have a look at the `setup.py` file. These three lines of boilerplate code can be copied and pasted and modified accordingly. \n",
      "\n",
      "I'm not going to explain any of this any further because it's all exhaustively documented on `cython.org`. The purpose of this notebook is just to give you a simple pattern to match that is useful in a wide variety of applications. "
     ]
    },
    {
     "cell_type": "code",
     "collapsed": false,
     "input": [
      "from cython_demo import nth_prime_cython\n",
      "from pure_python import nth_prime_pure_python"
     ],
     "language": "python",
     "metadata": {},
     "outputs": [],
     "prompt_number": 6
    },
    {
     "cell_type": "code",
     "collapsed": false,
     "input": [
      "nth_prime_cython(100)"
     ],
     "language": "python",
     "metadata": {},
     "outputs": [
      {
       "metadata": {},
       "output_type": "pyout",
       "prompt_number": 7,
       "text": [
        "541"
       ]
      }
     ],
     "prompt_number": 7
    },
    {
     "cell_type": "code",
     "collapsed": false,
     "input": [
      "nth_prime_pure_python(100)"
     ],
     "language": "python",
     "metadata": {},
     "outputs": [
      {
       "metadata": {},
       "output_type": "pyout",
       "prompt_number": 8,
       "text": [
        "541"
       ]
      }
     ],
     "prompt_number": 8
    },
    {
     "cell_type": "code",
     "collapsed": false,
     "input": [
      "%timeit nth_prime_pure_python(100)"
     ],
     "language": "python",
     "metadata": {},
     "outputs": [
      {
       "output_type": "stream",
       "stream": "stdout",
       "text": [
        "100 loops, best of 3: 2.45 ms per loop\n"
       ]
      }
     ],
     "prompt_number": 9
    },
    {
     "cell_type": "code",
     "collapsed": false,
     "input": [
      "%timeit nth_prime_cython(100)"
     ],
     "language": "python",
     "metadata": {},
     "outputs": [
      {
       "output_type": "stream",
       "stream": "stdout",
       "text": [
        "10000 loops, best of 3: 23.6 \u00b5s per loop\n"
       ]
      }
     ],
     "prompt_number": 10
    },
    {
     "cell_type": "heading",
     "level": 1,
     "metadata": {},
     "source": [
      "Cythonizing within a notebook"
     ]
    },
    {
     "cell_type": "code",
     "collapsed": false,
     "input": [
      "%load_ext cythonmagic"
     ],
     "language": "python",
     "metadata": {},
     "outputs": [],
     "prompt_number": 11
    },
    {
     "cell_type": "code",
     "collapsed": false,
     "input": [
      "%%cython\n",
      "\n",
      "def nth_prime_cython_notebook(int nth_prime):\n",
      "    cdef int n, k, i, result\n",
      "\n",
      "    cdef int p[10000]\n",
      "\n",
      "    k = 0\n",
      "    n = 2\n",
      "\n",
      "    while k < nth_prime:\n",
      "        i = 0\n",
      "        while i < k and n % p[i] != 0:\n",
      "            i = i + 1\n",
      "        if i == k:\n",
      "            p[k] = n\n",
      "            k = k + 1\n",
      "            result = n\n",
      "        n = n + 1\n",
      "\n",
      "    return result"
     ],
     "language": "python",
     "metadata": {},
     "outputs": [],
     "prompt_number": 12
    },
    {
     "cell_type": "code",
     "collapsed": false,
     "input": [
      "%timeit nth_prime_cython_notebook(100)"
     ],
     "language": "python",
     "metadata": {},
     "outputs": [
      {
       "output_type": "stream",
       "stream": "stdout",
       "text": [
        "10000 loops, best of 3: 23.3 \u00b5s per loop\n"
       ]
      }
     ],
     "prompt_number": 13
    },
    {
     "cell_type": "code",
     "collapsed": false,
     "input": [],
     "language": "python",
     "metadata": {},
     "outputs": []
    }
   ],
   "metadata": {}
  }
 ]
}