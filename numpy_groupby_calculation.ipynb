{
 "metadata": {
  "name": "",
  "signature": "sha256:91ee1b0e093eb674e3fcb9b242b4b87503869c30cc575ca57c872193933ff390"
 },
 "nbformat": 3,
 "nbformat_minor": 0,
 "worksheets": [
  {
   "cells": [
    {
     "cell_type": "markdown",
     "metadata": {},
     "source": [
      "# Tutorial on Group Aggregation with Numpy "
     ]
    },
    {
     "cell_type": "markdown",
     "metadata": {},
     "source": [
      "This tutorial describes how you can use Numpy and Astropy to do some common calculations on tabular data that comes in natural groupings, using subhalo catalogs as an example. There is much more information on http://docs.astropy.org/en/stable/table, including faster versions of at least some of the same calculations I'll do here. \n",
      "\n",
      "In short, here's what I'll show you how to do. First I'll generate some fake data that we'll use as a make-do catalog of halos and subhalos. If you haven't used Numpy before, this will also show you some useful syntax for array slicing and also a few randomization tricks. Using that fake data, we'll see how to perform the following calculations reasonably fast: for every collection of subhalos, compute the mass of the host halo, and also compute the mass-weighted average spin of each collection of subhalos. If you work with grouped data, you'll likely encounter some very close version of this kind of calculation over and over. \n",
      "\n",
      "For a barebones demo of the algorithm, I also have a public `gist` that I point people to on occasion:\n",
      "\n",
      "https://gist.github.com/aphearin/1a125a7ee6cd370740ef"
     ]
    },
    {
     "cell_type": "markdown",
     "metadata": {},
     "source": [
      "### Generate some fake data"
     ]
    },
    {
     "cell_type": "markdown",
     "metadata": {},
     "source": [
      "First things first, let's generate a fake subhalo catalog. There will be *Ntotal* different objects. Some of these objects will be *host halos*, others will be *subhalos*. A subhalo is located inside the virial radius of a host halo. "
     ]
    },
    {
     "cell_type": "code",
     "collapsed": false,
     "input": [
      "Ntotal = 1e6\n",
      "Nhosts = 3e5\n",
      "Nsubhalos = Ntotal - Nhosts"
     ],
     "language": "python",
     "metadata": {},
     "outputs": [],
     "prompt_number": 1
    },
    {
     "cell_type": "markdown",
     "metadata": {},
     "source": [
      "First let's create an array of unique ids, one for each object"
     ]
    },
    {
     "cell_type": "code",
     "collapsed": false,
     "input": [
      "import numpy as np"
     ],
     "language": "python",
     "metadata": {},
     "outputs": [],
     "prompt_number": 2
    },
    {
     "cell_type": "code",
     "collapsed": false,
     "input": [
      "halo_id = np.arange(Ntotal, dtype=int)\n",
      "np.random.shuffle(halo_id)"
     ],
     "language": "python",
     "metadata": {},
     "outputs": [],
     "prompt_number": 3
    },
    {
     "cell_type": "markdown",
     "metadata": {},
     "source": [
      "Now we'll create a *upid*, jargon for \"\u00fcber parent ID\", defined as follows. If *upid = -1*, the objet is a host halo; otherwise, *upid* equals the *halo_id* of the associated host halo. "
     ]
    },
    {
     "cell_type": "code",
     "collapsed": false,
     "input": [
      "upid = np.zeros(Ntotal, dtype=int) - 1 # initialize all values to -1\n",
      "\n",
      "# Now use Numpy to define a upid for each subhalo \n",
      "# by randomly selecting a host halo id\n",
      "upid[Nhosts:] = np.random.choice(halo_id[0:Nhosts], Nsubhalos)\n"
     ],
     "language": "python",
     "metadata": {},
     "outputs": [],
     "prompt_number": 4
    },
    {
     "cell_type": "markdown",
     "metadata": {},
     "source": [
      "Notice the ordering of *upid*: the first *Nhosts* elements have *upid = -1*, so even though the halo_id is a randomly sorted array, our data is sorted such that host halos appear first. This will be a nuisance that we will need to fix in a moment. First, let's just inspect:"
     ]
    },
    {
     "cell_type": "code",
     "collapsed": false,
     "input": [
      "print(upid[0:4])\n",
      "print(upid[-4:])"
     ],
     "language": "python",
     "metadata": {},
     "outputs": [
      {
       "output_type": "stream",
       "stream": "stdout",
       "text": [
        "[-1 -1 -1 -1]\n",
        "[184282 357686 353385 206172]\n"
       ]
      }
     ],
     "prompt_number": 5
    },
    {
     "cell_type": "markdown",
     "metadata": {},
     "source": [
      "Now let's define some random masses for our hosts and subs. Again we'll use `np.random`, and sort of arbitrarily and unrealistically defining all the subhalos and host halos to live in different mass ranges (hey, it's fake data):"
     ]
    },
    {
     "cell_type": "code",
     "collapsed": false,
     "input": [
      "mvir = np.zeros(Ntotal)\n",
      "mvir[0:Nhosts] = np.random.uniform(1e14, 1e15, len(mvir[0:Nhosts]))\n",
      "mvir[Nhosts:] = np.random.uniform(1e10, 1e12, len(mvir[Nhosts:]))\n",
      "print(mvir[0:4])\n",
      "print(mvir[-4:])"
     ],
     "language": "python",
     "metadata": {},
     "outputs": [
      {
       "output_type": "stream",
       "stream": "stdout",
       "text": [
        "[  2.01465288e+14   6.57851006e+14   2.13562159e+14   7.22899601e+14]\n",
        "[  2.74447234e+11   3.03216451e+11   1.31406803e+10   4.02538527e+11]\n"
       ]
      }
     ],
     "prompt_number": 6
    },
    {
     "cell_type": "markdown",
     "metadata": {},
     "source": [
      "Finally, lets just pick a bunch of random numbers for the spin of each (sub)halo:"
     ]
    },
    {
     "cell_type": "code",
     "collapsed": false,
     "input": [
      "spin = np.random.random(Ntotal)"
     ],
     "language": "python",
     "metadata": {},
     "outputs": [],
     "prompt_number": 7
    },
    {
     "cell_type": "markdown",
     "metadata": {},
     "source": [
      "### Bundle that data into an Astropy Table"
     ]
    },
    {
     "cell_type": "code",
     "collapsed": false,
     "input": [
      "from astropy.table import Table\n",
      "t = Table({'halo_id': halo_id, 'halo_upid': upid, \n",
      "           'halo_mvir': mvir, 'halo_spin': spin})"
     ],
     "language": "python",
     "metadata": {},
     "outputs": [],
     "prompt_number": 8
    },
    {
     "cell_type": "markdown",
     "metadata": {},
     "source": [
      "Astropy tables have a nice built-in print statement. This lets us easily see that our subhalo table is indeed sorted host-halos-first:"
     ]
    },
    {
     "cell_type": "code",
     "collapsed": false,
     "input": [
      "print(t[0:5])"
     ],
     "language": "python",
     "metadata": {},
     "outputs": [
      {
       "output_type": "stream",
       "stream": "stdout",
       "text": [
        "halo_upid   halo_spin        halo_mvir     halo_id\n",
        "--------- -------------- ----------------- -------\n",
        "       -1 0.878487963702 2.01465287635e+14  915821\n",
        "       -1 0.370312257284 6.57851006107e+14  470786\n",
        "       -1 0.343166622435 2.13562159363e+14   47313\n",
        "       -1 0.669812436401 7.22899600749e+14  444954\n",
        "       -1  0.67823819807 8.80535333564e+14  467422\n"
       ]
      }
     ],
     "prompt_number": 9
    },
    {
     "cell_type": "code",
     "collapsed": false,
     "input": [
      "print(t[-5:])"
     ],
     "language": "python",
     "metadata": {},
     "outputs": [
      {
       "output_type": "stream",
       "stream": "stdout",
       "text": [
        "halo_upid    halo_spin      halo_mvir    halo_id\n",
        "--------- --------------- -------------- -------\n",
        "   400001 0.0496085033214 261460830149.0  122992\n",
        "   184282  0.158406486082 274447234183.0  353677\n",
        "   357686  0.264702053974 303216450804.0  500397\n",
        "   353385  0.805501999846  13140680327.4  260130\n",
        "   206172  0.554299169381 402538526903.0  861762\n"
       ]
      }
     ],
     "prompt_number": 10
    },
    {
     "cell_type": "markdown",
     "metadata": {},
     "source": [
      "### Create a convenient grouping key"
     ]
    },
    {
     "cell_type": "markdown",
     "metadata": {},
     "source": [
      "There is one bookkeeping trick that is very handy in this kind of analysis. Let's create a new *halo_hostid* column in our table, defined as follows: for host halos, *halo_hostid* is just equal to *halo_id*, for subhalos *halo_hostid* equals *halo_upid*. (So the only difference between *halo_hostid* and *halo_upid* is for hosts). \n",
      "\n",
      "To create a new, empty column:"
     ]
    },
    {
     "cell_type": "code",
     "collapsed": false,
     "input": [
      "t['halo_hostid'] = 0\n",
      "# Let's look at the first few host halos\n",
      "print(t[0:4])"
     ],
     "language": "python",
     "metadata": {},
     "outputs": [
      {
       "output_type": "stream",
       "stream": "stdout",
       "text": [
        "halo_upid   halo_spin        halo_mvir     halo_id halo_hostid\n",
        "--------- -------------- ----------------- ------- -----------\n",
        "       -1 0.878487963702 2.01465287635e+14  915821           0\n",
        "       -1 0.370312257284 6.57851006107e+14  470786           0\n",
        "       -1 0.343166622435 2.13562159363e+14   47313           0\n",
        "       -1 0.669812436401 7.22899600749e+14  444954           0\n"
       ]
      }
     ],
     "prompt_number": 11
    },
    {
     "cell_type": "code",
     "collapsed": false,
     "input": [
      "host_halo_mask = t['halo_upid'] == -1"
     ],
     "language": "python",
     "metadata": {},
     "outputs": [],
     "prompt_number": 12
    },
    {
     "cell_type": "code",
     "collapsed": false,
     "input": [
      "t['halo_hostid'][host_halo_mask] = t['halo_id'][host_halo_mask]\n",
      "t['halo_hostid'][~host_halo_mask] = t['halo_upid'][~host_halo_mask]"
     ],
     "language": "python",
     "metadata": {},
     "outputs": [],
     "prompt_number": 13
    },
    {
     "cell_type": "code",
     "collapsed": false,
     "input": [
      "# Let's look at the first few host halos\n",
      "print(t[0:4])"
     ],
     "language": "python",
     "metadata": {},
     "outputs": [
      {
       "output_type": "stream",
       "stream": "stdout",
       "text": [
        "halo_upid   halo_spin        halo_mvir     halo_id halo_hostid\n",
        "--------- -------------- ----------------- ------- -----------\n",
        "       -1 0.878487963702 2.01465287635e+14  915821      915821\n",
        "       -1 0.370312257284 6.57851006107e+14  470786      470786\n",
        "       -1 0.343166622435 2.13562159363e+14   47313       47313\n",
        "       -1 0.669812436401 7.22899600749e+14  444954      444954\n"
       ]
      }
     ],
     "prompt_number": 14
    },
    {
     "cell_type": "code",
     "collapsed": false,
     "input": [
      "# Let's look at the last few subhalos\n",
      "print(t[-4:])"
     ],
     "language": "python",
     "metadata": {},
     "outputs": [
      {
       "output_type": "stream",
       "stream": "stdout",
       "text": [
        "halo_upid   halo_spin      halo_mvir    halo_id halo_hostid\n",
        "--------- -------------- -------------- ------- -----------\n",
        "   184282 0.158406486082 274447234183.0  353677      184282\n",
        "   357686 0.264702053974 303216450804.0  500397      357686\n",
        "   353385 0.805501999846  13140680327.4  260130      353385\n",
        "   206172 0.554299169381 402538526903.0  861762      206172\n"
       ]
      }
     ],
     "prompt_number": 15
    },
    {
     "cell_type": "markdown",
     "metadata": {},
     "source": [
      "Ok, here's why we did that. We're going to sort our halo table now. And we're going to do a \"double-sort\". First, we run a sort on *halo_hostid*, so that the first entries of the table have  the smallest value of this column. Then, **within each halo_hostid grouping**, we'll sort on *halo_upid*. That's a complicated set of operations, and there's an optimized sorting routine built into Astropy tables that handles it for us:"
     ]
    },
    {
     "cell_type": "code",
     "collapsed": false,
     "input": [
      "t.sort(['halo_hostid', 'halo_upid'])"
     ],
     "language": "python",
     "metadata": {},
     "outputs": [],
     "prompt_number": 16
    },
    {
     "cell_type": "markdown",
     "metadata": {},
     "source": [
      "Now our table has the following very convenient organization. Each collection of hosts + subs belonging to the same system are grouped together, always such that the host halo appears first in each new system:"
     ]
    },
    {
     "cell_type": "code",
     "collapsed": false,
     "input": [
      "print(t[0:15])"
     ],
     "language": "python",
     "metadata": {},
     "outputs": [
      {
       "output_type": "stream",
       "stream": "stdout",
       "text": [
        "halo_upid    halo_spin        halo_mvir     halo_id halo_hostid\n",
        "--------- --------------- ----------------- ------- -----------\n",
        "       -1  0.885291835998 1.54243895568e+14       0           0\n",
        "        0   0.47334373096    262889927763.0  648435           0\n",
        "       -1 0.0701427210789 1.48933368884e+14       7           7\n",
        "        7  0.303292393656    307118268013.0  225018           7\n",
        "        7  0.386545664227     30232189648.3  858312           7\n",
        "        7  0.557958760502    233492534882.0  400831           7\n",
        "       -1  0.796313226153 7.41311823365e+14       9           9\n",
        "        9  0.938314345469    864423665865.0  138937           9\n",
        "       -1  0.773983873081 7.57181678542e+14      10          10\n",
        "       10 0.0550286591943     41072864484.2  443174          10\n",
        "       10  0.852308092142    855087445915.0  329789          10\n",
        "       10  0.387411588665    365119548663.0  211375          10\n",
        "       10  0.777747968573    302907853667.0  421806          10\n",
        "       10  0.593081760373    898109112349.0  686066          10\n",
        "       10 0.0415052025709    806914673329.0  744743          10\n"
       ]
      }
     ],
     "prompt_number": 17
    },
    {
     "cell_type": "markdown",
     "metadata": {},
     "source": [
      "## Using Numpy in group-aggregation calculations"
     ]
    },
    {
     "cell_type": "markdown",
     "metadata": {},
     "source": [
      "Numpy comes with an extremely useful and terrifically fast method `np.unique` that can be used on data organized as above:"
     ]
    },
    {
     "cell_type": "code",
     "collapsed": false,
     "input": [
      "halo_ids_of_hosts, idx_hosts, host_richness = np.unique(t['halo_hostid'], \n",
      "                                                        return_index = True, \n",
      "                                                        return_counts = True)    "
     ],
     "language": "python",
     "metadata": {},
     "outputs": [],
     "prompt_number": 18
    },
    {
     "cell_type": "markdown",
     "metadata": {},
     "source": [
      "Here's what that did. It looped over the *halo_hostid* column of our table and returned the set of distinct elements of this column; we stored that result in the *halo_ids_of_hosts* array. \n",
      "\n",
      "By setting the *return_index* argument to `True`, `np.unique` also returned the *indices* of the arrays where the *halo_hostid* attained each of these unique values. \n",
      "\n",
      "Finally, by setting *return_counts* to `True`, `np.unique` returned the total number of appearances of each unique value of the *halo_hostid* column. \n",
      "\n",
      "Let's compare the table printed above to each of these arrays to make sure `np.unique` does what I just said it does:"
     ]
    },
    {
     "cell_type": "code",
     "collapsed": false,
     "input": [
      "print(halo_ids_of_hosts[0:3])"
     ],
     "language": "python",
     "metadata": {},
     "outputs": [
      {
       "output_type": "stream",
       "stream": "stdout",
       "text": [
        "halo_hostid\n",
        "-----------\n",
        "          0\n",
        "          7\n",
        "          9\n"
       ]
      }
     ],
     "prompt_number": 19
    },
    {
     "cell_type": "code",
     "collapsed": false,
     "input": [
      "print(idx_hosts[0:3])"
     ],
     "language": "python",
     "metadata": {},
     "outputs": [
      {
       "output_type": "stream",
       "stream": "stdout",
       "text": [
        "halo_hostid\n",
        "-----------\n",
        "          0\n",
        "          2\n",
        "          6\n"
       ]
      }
     ],
     "prompt_number": 20
    },
    {
     "cell_type": "code",
     "collapsed": false,
     "input": [
      "print(host_richness[0:3])"
     ],
     "language": "python",
     "metadata": {},
     "outputs": [
      {
       "output_type": "stream",
       "stream": "stdout",
       "text": [
        "[2 4 2]\n"
       ]
      }
     ],
     "prompt_number": 21
    },
    {
     "cell_type": "markdown",
     "metadata": {},
     "source": [
      "### Computing Mhost"
     ]
    },
    {
     "cell_type": "markdown",
     "metadata": {},
     "source": [
      "Ok, now let's use the results of `np.unique` to create a new column for our table, `Mhost`. For host halos, this column is just equal to `halo_mvir`; for subhalos, this equals the value of `halo_mvir` of the associated host. We'll compute this by looping over the array returned by `np.unique`:"
     ]
    },
    {
     "cell_type": "code",
     "collapsed": false,
     "input": [
      "t['Mhost'] = 0.\n",
      "for ihost, host_halo_id in enumerate(halo_ids_of_hosts):\n",
      "    first_ihost_idx = idx_hosts[ihost]\n",
      "    last_ihost_idx = first_ihost_idx + host_richness[ihost]\n",
      "    t['Mhost'][first_ihost_idx:last_ihost_idx] = t['halo_mvir'][first_ihost_idx]"
     ],
     "language": "python",
     "metadata": {},
     "outputs": [],
     "prompt_number": 22
    },
    {
     "cell_type": "code",
     "collapsed": false,
     "input": [
      "print(t[0:15])"
     ],
     "language": "python",
     "metadata": {},
     "outputs": [
      {
       "output_type": "stream",
       "stream": "stdout",
       "text": [
        "halo_upid    halo_spin        halo_mvir     ... halo_hostid       Mhost      \n",
        "--------- --------------- ----------------- ... ----------- -----------------\n",
        "       -1  0.885291835998 1.54243895568e+14 ...           0 1.54243895568e+14\n",
        "        0   0.47334373096    262889927763.0 ...           0 1.54243895568e+14\n",
        "       -1 0.0701427210789 1.48933368884e+14 ...           7 1.48933368884e+14\n",
        "        7  0.303292393656    307118268013.0 ...           7 1.48933368884e+14\n",
        "        7  0.386545664227     30232189648.3 ...           7 1.48933368884e+14\n",
        "        7  0.557958760502    233492534882.0 ...           7 1.48933368884e+14\n",
        "       -1  0.796313226153 7.41311823365e+14 ...           9 7.41311823365e+14\n",
        "        9  0.938314345469    864423665865.0 ...           9 7.41311823365e+14\n",
        "       -1  0.773983873081 7.57181678542e+14 ...          10 7.57181678542e+14\n",
        "       10 0.0550286591943     41072864484.2 ...          10 7.57181678542e+14\n",
        "       10  0.852308092142    855087445915.0 ...          10 7.57181678542e+14\n",
        "       10  0.387411588665    365119548663.0 ...          10 7.57181678542e+14\n",
        "       10  0.777747968573    302907853667.0 ...          10 7.57181678542e+14\n",
        "       10  0.593081760373    898109112349.0 ...          10 7.57181678542e+14\n",
        "       10 0.0415052025709    806914673329.0 ...          10 7.57181678542e+14\n"
       ]
      }
     ],
     "prompt_number": 23
    },
    {
     "cell_type": "markdown",
     "metadata": {},
     "source": [
      "### Computing subhalo number counts"
     ]
    },
    {
     "cell_type": "markdown",
     "metadata": {},
     "source": [
      "Now that we have the basic algorithm in place, we can start riffing on it to calculate other group-aggregation quantities. Here is an example of how to compute a new column storing the number of subhalos in each host. "
     ]
    },
    {
     "cell_type": "code",
     "collapsed": false,
     "input": [
      "t['Nsub'] = 0\n",
      "for ihost, host_halo_id in enumerate(halo_ids_of_hosts):\n",
      "    first_ihost_idx = idx_hosts[ihost]\n",
      "    last_ihost_idx = first_ihost_idx + host_richness[ihost]\n",
      "    t['Nsub'][first_ihost_idx:last_ihost_idx] = host_richness[ihost] - 1"
     ],
     "language": "python",
     "metadata": {},
     "outputs": [],
     "prompt_number": 24
    },
    {
     "cell_type": "code",
     "collapsed": false,
     "input": [
      "print(t[0:15])"
     ],
     "language": "python",
     "metadata": {},
     "outputs": [
      {
       "output_type": "stream",
       "stream": "stdout",
       "text": [
        "halo_upid    halo_spin        halo_mvir     ...       Mhost       Nsub\n",
        "--------- --------------- ----------------- ... ----------------- ----\n",
        "       -1  0.885291835998 1.54243895568e+14 ... 1.54243895568e+14    1\n",
        "        0   0.47334373096    262889927763.0 ... 1.54243895568e+14    1\n",
        "       -1 0.0701427210789 1.48933368884e+14 ... 1.48933368884e+14    3\n",
        "        7  0.303292393656    307118268013.0 ... 1.48933368884e+14    3\n",
        "        7  0.386545664227     30232189648.3 ... 1.48933368884e+14    3\n",
        "        7  0.557958760502    233492534882.0 ... 1.48933368884e+14    3\n",
        "       -1  0.796313226153 7.41311823365e+14 ... 7.41311823365e+14    1\n",
        "        9  0.938314345469    864423665865.0 ... 7.41311823365e+14    1\n",
        "       -1  0.773983873081 7.57181678542e+14 ... 7.57181678542e+14    6\n",
        "       10 0.0550286591943     41072864484.2 ... 7.57181678542e+14    6\n",
        "       10  0.852308092142    855087445915.0 ... 7.57181678542e+14    6\n",
        "       10  0.387411588665    365119548663.0 ... 7.57181678542e+14    6\n",
        "       10  0.777747968573    302907853667.0 ... 7.57181678542e+14    6\n",
        "       10  0.593081760373    898109112349.0 ... 7.57181678542e+14    6\n",
        "       10 0.0415052025709    806914673329.0 ... 7.57181678542e+14    6\n"
       ]
      }
     ],
     "prompt_number": 25
    },
    {
     "cell_type": "markdown",
     "metadata": {},
     "source": [
      "### Computing mass-weighted average subhalo spin"
     ]
    },
    {
     "cell_type": "markdown",
     "metadata": {},
     "source": [
      "This example and the next one demo a couple of more complicated examples that you should be able to pattern-match for whatever your use-case is. Here we'll compute the mass-weighted average spin of all the *subhalos* in each group. "
     ]
    },
    {
     "cell_type": "code",
     "collapsed": false,
     "input": [
      "t['mean_mass_weighted_subhalo_spin'] = 0.\n",
      "for ihost, host_halo_id in enumerate(halo_ids_of_hosts):\n",
      "    first_ihost_idx = idx_hosts[ihost]\n",
      "    last_ihost_idx = first_ihost_idx + host_richness[ihost]\n",
      "    \n",
      "    subhalo_masses = t['halo_mvir'][first_ihost_idx+1:last_ihost_idx]\n",
      "    subhalo_spins = t['halo_spin'][first_ihost_idx+1:last_ihost_idx]\n",
      "    \n",
      "    s = sum(subhalo_masses*subhalo_spins)\n",
      "    Nsub = Nsub = host_richness[ihost] - 1\n",
      "\n",
      "    try:\n",
      "        result = s/float(Nsub)\n",
      "    except ZeroDivisionError:\n",
      "        result = 0.\n",
      "\n",
      "    t['mean_mass_weighted_subhalo_spin'][first_ihost_idx:last_ihost_idx] = result\n",
      "    "
     ],
     "language": "python",
     "metadata": {},
     "outputs": [],
     "prompt_number": 26
    },
    {
     "cell_type": "markdown",
     "metadata": {},
     "source": [
      "Whoa, that was *really* slow! To see why this was slow, and to see how to speed it up, see `aggregation_performance_notes.ipynb`. "
     ]
    },
    {
     "cell_type": "code",
     "collapsed": false,
     "input": [],
     "language": "python",
     "metadata": {},
     "outputs": [],
     "prompt_number": 26
    }
   ],
   "metadata": {}
  }
 ]
}