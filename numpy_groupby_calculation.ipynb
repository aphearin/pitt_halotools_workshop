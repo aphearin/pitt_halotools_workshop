{
 "metadata": {
  "name": "",
  "signature": "sha256:6a04f020a64e5c3e7f92f1b321234ba3fdb51b3183b1f1e906ff9e59b8b859a6"
 },
 "nbformat": 3,
 "nbformat_minor": 0,
 "worksheets": [
  {
   "cells": [
    {
     "cell_type": "markdown",
     "metadata": {},
     "source": [
      "# Tutorial on Group Aggregation with Numpy "
     ]
    },
    {
     "cell_type": "markdown",
     "metadata": {},
     "source": [
      "This tutorial describes how you can use Numpy and Astropy to do some common calculations on tabular data that comes in natural groupings, using subhalo catalogs as an example. There is much more information on http://docs.astropy.org/en/stable/table, including faster versions of at least some of the same calculations I'll do here. \n",
      "\n",
      "In short, here's what I'll show you how to do. First I'll generate some fake data that we'll use as a make-do catalog of halos and subhalos. If you haven't used Numpy before, this will also show you some useful syntax for array slicing and also a few randomization tricks. Using that fake data, we'll see how to perform the following calculations reasonably fast: for every collection of subhalos, compute the mass of the host halo, and also compute the mass-weighted average spin of each collection of subhalos. If you work with grouped data, you'll likely encounter some very close version of this kind of calculation over and over. \n",
      "\n",
      "For a barebones demo of the algorithm, I also have a public `gist` that I point people to on occasion:\n",
      "\n",
      "https://gist.github.com/aphearin/1a125a7ee6cd370740ef"
     ]
    },
    {
     "cell_type": "markdown",
     "metadata": {},
     "source": [
      "### Generate some fake data"
     ]
    },
    {
     "cell_type": "markdown",
     "metadata": {},
     "source": [
      "First things first, let's generate a fake subhalo catalog. There will be *Ntotal* different objects. Some of these objects will be *host halos*, others will be *subhalos*. A subhalo is located inside the virial radius of a host halo. "
     ]
    },
    {
     "cell_type": "code",
     "collapsed": false,
     "input": [
      "Ntotal = 1e6\n",
      "Nhosts = 3e5\n",
      "Nsubhalos = Ntotal - Nhosts"
     ],
     "language": "python",
     "metadata": {},
     "outputs": [],
     "prompt_number": 1
    },
    {
     "cell_type": "markdown",
     "metadata": {},
     "source": [
      "First let's create an array of unique ids, one for each object"
     ]
    },
    {
     "cell_type": "code",
     "collapsed": false,
     "input": [
      "import numpy as np"
     ],
     "language": "python",
     "metadata": {},
     "outputs": [],
     "prompt_number": 2
    },
    {
     "cell_type": "code",
     "collapsed": false,
     "input": [
      "halo_id = np.arange(Ntotal, dtype=int)\n",
      "np.random.shuffle(halo_id)"
     ],
     "language": "python",
     "metadata": {},
     "outputs": [],
     "prompt_number": 3
    },
    {
     "cell_type": "markdown",
     "metadata": {},
     "source": [
      "Now we'll create a *upid*, jargon for \"\u00fcber parent ID\", defined as follows. If *upid = -1*, the objet is a host halo; otherwise, *upid* equals the *halo_id* of the associated host halo. "
     ]
    },
    {
     "cell_type": "code",
     "collapsed": false,
     "input": [
      "upid = np.zeros(Ntotal, dtype=int) - 1 # initialize all values to -1\n",
      "\n",
      "# Now use Numpy to define a upid for each subhalo \n",
      "# by randomly selecting a host halo id\n",
      "upid[Nhosts:] = np.random.choice(halo_id[0:Nhosts], Nsubhalos)\n"
     ],
     "language": "python",
     "metadata": {},
     "outputs": [],
     "prompt_number": 4
    },
    {
     "cell_type": "markdown",
     "metadata": {},
     "source": [
      "Notice the ordering of *upid*: the first *Nhosts* elements have *upid = -1*, so even though the halo_id is a randomly sorted array, our data is sorted such that host halos appear first. This will be a nuisance that we will need to fix in a moment. First, let's just inspect:"
     ]
    },
    {
     "cell_type": "code",
     "collapsed": false,
     "input": [
      "print(upid[0:4])\n",
      "print(upid[-4:])"
     ],
     "language": "python",
     "metadata": {},
     "outputs": [
      {
       "output_type": "stream",
       "stream": "stdout",
       "text": [
        "[-1 -1 -1 -1]\n",
        "[109541 326777 912241 494118]\n"
       ]
      }
     ],
     "prompt_number": 5
    },
    {
     "cell_type": "markdown",
     "metadata": {},
     "source": [
      "Now let's define some random masses for our hosts and subs. Again we'll use `np.random`, and sort of arbitrarily and unrealistically defining all the subhalos and host halos to live in different mass ranges (hey, it's fake data):"
     ]
    },
    {
     "cell_type": "code",
     "collapsed": false,
     "input": [
      "mvir = np.zeros(Ntotal)\n",
      "mvir[0:Nhosts] = np.random.uniform(1e14, 1e15, len(mvir[0:Nhosts]))\n",
      "mvir[Nhosts:] = np.random.uniform(1e10, 1e12, len(mvir[Nhosts:]))\n",
      "print(mvir[0:4])\n",
      "print(mvir[-4:])"
     ],
     "language": "python",
     "metadata": {},
     "outputs": [
      {
       "output_type": "stream",
       "stream": "stdout",
       "text": [
        "[  8.64819798e+14   3.89152948e+14   2.77286338e+14   2.03304957e+14]\n",
        "[  4.50617940e+11   1.34071041e+11   6.23339505e+11   3.88712990e+11]\n"
       ]
      }
     ],
     "prompt_number": 6
    },
    {
     "cell_type": "markdown",
     "metadata": {},
     "source": [
      "Finally, lets just pick a bunch of random numbers for the spin of each (sub)halo:"
     ]
    },
    {
     "cell_type": "code",
     "collapsed": false,
     "input": [
      "spin = np.random.random(Ntotal)"
     ],
     "language": "python",
     "metadata": {},
     "outputs": [],
     "prompt_number": 7
    },
    {
     "cell_type": "markdown",
     "metadata": {},
     "source": [
      "### Bundle that data into an Astropy Table"
     ]
    },
    {
     "cell_type": "code",
     "collapsed": false,
     "input": [
      "from astropy.table import Table\n",
      "t = Table({'halo_id': halo_id, 'halo_upid': upid, \n",
      "           'halo_mvir': mvir, 'halo_spin': spin})"
     ],
     "language": "python",
     "metadata": {},
     "outputs": [],
     "prompt_number": 8
    },
    {
     "cell_type": "markdown",
     "metadata": {},
     "source": [
      "Astropy tables have a nice built-in print statement. This lets us easily see that our subhalo table is indeed sorted host-halos-first:"
     ]
    },
    {
     "cell_type": "code",
     "collapsed": false,
     "input": [
      "print(t[0:5])"
     ],
     "language": "python",
     "metadata": {},
     "outputs": [
      {
       "output_type": "stream",
       "stream": "stdout",
       "text": [
        "halo_upid    halo_spin        halo_mvir     halo_id\n",
        "--------- --------------- ----------------- -------\n",
        "       -1  0.115107943551 8.64819797707e+14  125704\n",
        "       -1 0.0955262368645  3.8915294833e+14  969160\n",
        "       -1  0.656740400827 2.77286338149e+14  164501\n",
        "       -1 0.0128688781996 2.03304956847e+14  361403\n",
        "       -1  0.524714827052 8.03540916441e+14  535290\n"
       ]
      }
     ],
     "prompt_number": 9
    },
    {
     "cell_type": "code",
     "collapsed": false,
     "input": [
      "print(t[-5:])"
     ],
     "language": "python",
     "metadata": {},
     "outputs": [
      {
       "output_type": "stream",
       "stream": "stdout",
       "text": [
        "halo_upid    halo_spin      halo_mvir    halo_id\n",
        "--------- --------------- -------------- -------\n",
        "   216089  0.933168531785 772109556937.0  268735\n",
        "   109541 0.0342170928872 450617940153.0  547476\n",
        "   326777  0.530153182204 134071041253.0  573453\n",
        "   912241  0.700037121756 623339505366.0  599730\n",
        "   494118 0.0223829514928 388712989664.0  552149\n"
       ]
      }
     ],
     "prompt_number": 10
    },
    {
     "cell_type": "markdown",
     "metadata": {},
     "source": [
      "### Create a convenient grouping key"
     ]
    },
    {
     "cell_type": "markdown",
     "metadata": {},
     "source": [
      "There is one bookkeeping trick that is very handy in this kind of analysis. Let's create a new *halo_hostid* column in our table, defined as follows: for host halos, *halo_hostid* is just equal to *halo_id*, for subhalos *halo_hostid* equals *halo_upid*. (So the only difference between *halo_hostid* and *halo_upid* is for hosts). \n",
      "\n",
      "To create a new, empty column:"
     ]
    },
    {
     "cell_type": "code",
     "collapsed": false,
     "input": [
      "t['halo_hostid'] = 0\n",
      "# Let's look at the first few host halos\n",
      "print(t[0:4])"
     ],
     "language": "python",
     "metadata": {},
     "outputs": [
      {
       "output_type": "stream",
       "stream": "stdout",
       "text": [
        "halo_upid    halo_spin        halo_mvir     halo_id halo_hostid\n",
        "--------- --------------- ----------------- ------- -----------\n",
        "       -1  0.115107943551 8.64819797707e+14  125704           0\n",
        "       -1 0.0955262368645  3.8915294833e+14  969160           0\n",
        "       -1  0.656740400827 2.77286338149e+14  164501           0\n",
        "       -1 0.0128688781996 2.03304956847e+14  361403           0\n"
       ]
      }
     ],
     "prompt_number": 11
    },
    {
     "cell_type": "code",
     "collapsed": false,
     "input": [
      "host_halo_mask = t['halo_upid'] == -1"
     ],
     "language": "python",
     "metadata": {},
     "outputs": [],
     "prompt_number": 12
    },
    {
     "cell_type": "code",
     "collapsed": false,
     "input": [
      "t['halo_hostid'][host_halo_mask] = t['halo_id'][host_halo_mask]\n",
      "t['halo_hostid'][~host_halo_mask] = t['halo_upid'][~host_halo_mask]"
     ],
     "language": "python",
     "metadata": {},
     "outputs": [],
     "prompt_number": 13
    },
    {
     "cell_type": "code",
     "collapsed": false,
     "input": [
      "# Let's look at the first few host halos\n",
      "print(t[0:4])"
     ],
     "language": "python",
     "metadata": {},
     "outputs": [
      {
       "output_type": "stream",
       "stream": "stdout",
       "text": [
        "halo_upid    halo_spin        halo_mvir     halo_id halo_hostid\n",
        "--------- --------------- ----------------- ------- -----------\n",
        "       -1  0.115107943551 8.64819797707e+14  125704      125704\n",
        "       -1 0.0955262368645  3.8915294833e+14  969160      969160\n",
        "       -1  0.656740400827 2.77286338149e+14  164501      164501\n",
        "       -1 0.0128688781996 2.03304956847e+14  361403      361403\n"
       ]
      }
     ],
     "prompt_number": 14
    },
    {
     "cell_type": "code",
     "collapsed": false,
     "input": [
      "# Let's look at the last few subhalos\n",
      "print(t[-4:])"
     ],
     "language": "python",
     "metadata": {},
     "outputs": [
      {
       "output_type": "stream",
       "stream": "stdout",
       "text": [
        "halo_upid    halo_spin      halo_mvir    halo_id halo_hostid\n",
        "--------- --------------- -------------- ------- -----------\n",
        "   109541 0.0342170928872 450617940153.0  547476      109541\n",
        "   326777  0.530153182204 134071041253.0  573453      326777\n",
        "   912241  0.700037121756 623339505366.0  599730      912241\n",
        "   494118 0.0223829514928 388712989664.0  552149      494118\n"
       ]
      }
     ],
     "prompt_number": 15
    },
    {
     "cell_type": "markdown",
     "metadata": {},
     "source": [
      "Ok, here's why we did that. We're going to sort our halo table now. And we're going to do a \"double-sort\". First, we run a sort on *halo_hostid*, so that the first entries of the table have  the smallest value of this column. Then, **within each halo_hostid grouping**, we'll sort on *halo_upid*. That's a complicated set of operations, and there's an optimized sorting routine built into Astropy tables that handles it for us:"
     ]
    },
    {
     "cell_type": "code",
     "collapsed": false,
     "input": [
      "t.sort(['halo_hostid', 'halo_upid'])"
     ],
     "language": "python",
     "metadata": {},
     "outputs": [],
     "prompt_number": 16
    },
    {
     "cell_type": "markdown",
     "metadata": {},
     "source": [
      "Now our table has the following very convenient organization. Each collection of hosts + subs belonging to the same system are grouped together, always such that the host halo appears first in each new system:"
     ]
    },
    {
     "cell_type": "code",
     "collapsed": false,
     "input": [
      "print(t[0:15])"
     ],
     "language": "python",
     "metadata": {},
     "outputs": [
      {
       "output_type": "stream",
       "stream": "stdout",
       "text": [
        "halo_upid   halo_spin        halo_mvir     halo_id halo_hostid\n",
        "--------- -------------- ----------------- ------- -----------\n",
        "       -1 0.486159896263 4.21494114898e+14       1           1\n",
        "        1 0.463195554175    970631111114.0  996830           1\n",
        "       -1 0.454136726839 7.41812437155e+14       6           6\n",
        "        6 0.904726313195    948736210859.0  175959           6\n",
        "        6 0.430082035319    607568505196.0  949604           6\n",
        "        6 0.662767622564    527271033153.0  270978           6\n",
        "        6 0.878379973731    801327486681.0  143724           6\n",
        "       -1 0.675325876649 2.98533268743e+14       9           9\n",
        "        9 0.354953682858    486469447830.0  778926           9\n",
        "       -1 0.465261819231 9.07100936525e+14      11          11\n",
        "       11 0.176339220092    704797004589.0  393040          11\n",
        "       11 0.318358862269    588848193090.0  226020          11\n",
        "       11  0.39343256256    936054330961.0  739015          11\n",
        "       -1 0.359704156548 3.08211614082e+14      13          13\n",
        "       13 0.733864665744    425770771436.0  933678          13\n"
       ]
      }
     ],
     "prompt_number": 17
    },
    {
     "cell_type": "markdown",
     "metadata": {},
     "source": [
      "## Using Numpy in group-aggregation calculations"
     ]
    },
    {
     "cell_type": "markdown",
     "metadata": {},
     "source": [
      "Numpy comes with an extremely useful and terrifically fast method `np.unique` that can be used on data organized as above:"
     ]
    },
    {
     "cell_type": "code",
     "collapsed": false,
     "input": [
      "halo_ids_of_hosts, idx_hosts, host_richness = np.unique(t['halo_hostid'], \n",
      "                                                        return_index = True, \n",
      "                                                        return_counts = True)    "
     ],
     "language": "python",
     "metadata": {},
     "outputs": [],
     "prompt_number": 18
    },
    {
     "cell_type": "markdown",
     "metadata": {},
     "source": [
      "Here's what that did. It looped over the *halo_hostid* column of our table and returned the set of distinct elements of this column; we stored that result in the *halo_ids_of_hosts* array. \n",
      "\n",
      "By setting the *return_index* argument to `True`, `np.unique` also returned the *indices* of the arrays where the *halo_hostid* attained each of these unique values. \n",
      "\n",
      "Finally, by setting *return_counts* to `True`, `np.unique` returned the total number of appearances of each unique value of the *halo_hostid* column. \n",
      "\n",
      "Let's compare the table printed above to each of these arrays to make sure `np.unique` does what I just said it does:"
     ]
    },
    {
     "cell_type": "code",
     "collapsed": false,
     "input": [
      "print(halo_ids_of_hosts[0:3])"
     ],
     "language": "python",
     "metadata": {},
     "outputs": [
      {
       "output_type": "stream",
       "stream": "stdout",
       "text": [
        "halo_hostid\n",
        "-----------\n",
        "          1\n",
        "          6\n",
        "          9\n"
       ]
      }
     ],
     "prompt_number": 19
    },
    {
     "cell_type": "code",
     "collapsed": false,
     "input": [
      "print(idx_hosts[0:3])"
     ],
     "language": "python",
     "metadata": {},
     "outputs": [
      {
       "output_type": "stream",
       "stream": "stdout",
       "text": [
        "halo_hostid\n",
        "-----------\n",
        "          0\n",
        "          2\n",
        "          7\n"
       ]
      }
     ],
     "prompt_number": 20
    },
    {
     "cell_type": "code",
     "collapsed": false,
     "input": [
      "print(host_richness[0:3])"
     ],
     "language": "python",
     "metadata": {},
     "outputs": [
      {
       "output_type": "stream",
       "stream": "stdout",
       "text": [
        "[2 5 2]\n"
       ]
      }
     ],
     "prompt_number": 21
    },
    {
     "cell_type": "markdown",
     "metadata": {},
     "source": [
      "### Computing Mhost"
     ]
    },
    {
     "cell_type": "markdown",
     "metadata": {},
     "source": [
      "Ok, now let's use the results of `np.unique` to create a new column for our table, `Mhost`. For host halos, this column is just equal to `halo_mvir`; for subhalos, this equals the value of `halo_mvir` of the associated host. We'll compute this by looping over the array returned by `np.unique`:"
     ]
    },
    {
     "cell_type": "code",
     "collapsed": false,
     "input": [
      "for ihost, host_halo_id in enumerate(halo_ids_of_hosts):\n",
      "    first_ihost_idx = idx_hosts[ihost]\n",
      "    last_ihost_idx = first_ihost_idx + host_richness[ihost]\n",
      "    t['Mhost'][first_ihost_idx:last_ihost_idx] = t['halo_mvir'][first_ihost_idx]"
     ],
     "language": "python",
     "metadata": {},
     "outputs": [
      {
       "ename": "KeyError",
       "evalue": "'Mhost'",
       "output_type": "pyerr",
       "traceback": [
        "\u001b[0;31m---------------------------------------------------------------------------\u001b[0m\n\u001b[0;31mKeyError\u001b[0m                                  Traceback (most recent call last)",
        "\u001b[0;32m<ipython-input-22-d76cbffe3f1a>\u001b[0m in \u001b[0;36m<module>\u001b[0;34m()\u001b[0m\n\u001b[1;32m      2\u001b[0m     \u001b[0mfirst_ihost_idx\u001b[0m \u001b[0;34m=\u001b[0m \u001b[0midx_hosts\u001b[0m\u001b[0;34m[\u001b[0m\u001b[0mihost\u001b[0m\u001b[0;34m]\u001b[0m\u001b[0;34m\u001b[0m\u001b[0m\n\u001b[1;32m      3\u001b[0m     \u001b[0mlast_ihost_idx\u001b[0m \u001b[0;34m=\u001b[0m \u001b[0mfirst_ihost_idx\u001b[0m \u001b[0;34m+\u001b[0m \u001b[0mhost_richness\u001b[0m\u001b[0;34m[\u001b[0m\u001b[0mihost\u001b[0m\u001b[0;34m]\u001b[0m\u001b[0;34m\u001b[0m\u001b[0m\n\u001b[0;32m----> 4\u001b[0;31m     \u001b[0mt\u001b[0m\u001b[0;34m[\u001b[0m\u001b[0;34m'Mhost'\u001b[0m\u001b[0;34m]\u001b[0m\u001b[0;34m[\u001b[0m\u001b[0mfirst_ihost_idx\u001b[0m\u001b[0;34m:\u001b[0m\u001b[0mlast_ihost_idx\u001b[0m\u001b[0;34m]\u001b[0m \u001b[0;34m=\u001b[0m \u001b[0mt\u001b[0m\u001b[0;34m[\u001b[0m\u001b[0;34m'halo_mvir'\u001b[0m\u001b[0;34m]\u001b[0m\u001b[0;34m[\u001b[0m\u001b[0mfirst_ihost_idx\u001b[0m\u001b[0;34m]\u001b[0m\u001b[0;34m\u001b[0m\u001b[0m\n\u001b[0m",
        "\u001b[0;32m/Users/aphearin/anaconda/lib/python2.7/site-packages/astropy/table/table.pyc\u001b[0m in \u001b[0;36m__getitem__\u001b[0;34m(self, item)\u001b[0m\n\u001b[1;32m    847\u001b[0m     \u001b[0;32mdef\u001b[0m \u001b[0m__getitem__\u001b[0m\u001b[0;34m(\u001b[0m\u001b[0mself\u001b[0m\u001b[0;34m,\u001b[0m \u001b[0mitem\u001b[0m\u001b[0;34m)\u001b[0m\u001b[0;34m:\u001b[0m\u001b[0;34m\u001b[0m\u001b[0m\n\u001b[1;32m    848\u001b[0m         \u001b[0;32mif\u001b[0m \u001b[0misinstance\u001b[0m\u001b[0;34m(\u001b[0m\u001b[0mitem\u001b[0m\u001b[0;34m,\u001b[0m \u001b[0msix\u001b[0m\u001b[0;34m.\u001b[0m\u001b[0mstring_types\u001b[0m\u001b[0;34m)\u001b[0m\u001b[0;34m:\u001b[0m\u001b[0;34m\u001b[0m\u001b[0m\n\u001b[0;32m--> 849\u001b[0;31m             \u001b[0;32mreturn\u001b[0m \u001b[0mself\u001b[0m\u001b[0;34m.\u001b[0m\u001b[0mcolumns\u001b[0m\u001b[0;34m[\u001b[0m\u001b[0mitem\u001b[0m\u001b[0;34m]\u001b[0m\u001b[0;34m\u001b[0m\u001b[0m\n\u001b[0m\u001b[1;32m    850\u001b[0m         \u001b[0;32melif\u001b[0m \u001b[0misinstance\u001b[0m\u001b[0;34m(\u001b[0m\u001b[0mitem\u001b[0m\u001b[0;34m,\u001b[0m \u001b[0;34m(\u001b[0m\u001b[0mint\u001b[0m\u001b[0;34m,\u001b[0m \u001b[0mnp\u001b[0m\u001b[0;34m.\u001b[0m\u001b[0minteger\u001b[0m\u001b[0;34m)\u001b[0m\u001b[0;34m)\u001b[0m\u001b[0;34m:\u001b[0m\u001b[0;34m\u001b[0m\u001b[0m\n\u001b[1;32m    851\u001b[0m             \u001b[0;32mreturn\u001b[0m \u001b[0mself\u001b[0m\u001b[0;34m.\u001b[0m\u001b[0mRow\u001b[0m\u001b[0;34m(\u001b[0m\u001b[0mself\u001b[0m\u001b[0;34m,\u001b[0m \u001b[0mitem\u001b[0m\u001b[0;34m)\u001b[0m\u001b[0;34m\u001b[0m\u001b[0m\n",
        "\u001b[0;32m/Users/aphearin/anaconda/lib/python2.7/site-packages/astropy/table/table.pyc\u001b[0m in \u001b[0;36m__getitem__\u001b[0;34m(self, item)\u001b[0m\n\u001b[1;32m    105\u001b[0m         \"\"\"\n\u001b[1;32m    106\u001b[0m         \u001b[0;32mif\u001b[0m \u001b[0misinstance\u001b[0m\u001b[0;34m(\u001b[0m\u001b[0mitem\u001b[0m\u001b[0;34m,\u001b[0m \u001b[0msix\u001b[0m\u001b[0;34m.\u001b[0m\u001b[0mstring_types\u001b[0m\u001b[0;34m)\u001b[0m\u001b[0;34m:\u001b[0m\u001b[0;34m\u001b[0m\u001b[0m\n\u001b[0;32m--> 107\u001b[0;31m             \u001b[0;32mreturn\u001b[0m \u001b[0mOrderedDict\u001b[0m\u001b[0;34m.\u001b[0m\u001b[0m__getitem__\u001b[0m\u001b[0;34m(\u001b[0m\u001b[0mself\u001b[0m\u001b[0;34m,\u001b[0m \u001b[0mitem\u001b[0m\u001b[0;34m)\u001b[0m\u001b[0;34m\u001b[0m\u001b[0m\n\u001b[0m\u001b[1;32m    108\u001b[0m         \u001b[0;32melif\u001b[0m \u001b[0misinstance\u001b[0m\u001b[0;34m(\u001b[0m\u001b[0mitem\u001b[0m\u001b[0;34m,\u001b[0m \u001b[0mint\u001b[0m\u001b[0;34m)\u001b[0m\u001b[0;34m:\u001b[0m\u001b[0;34m\u001b[0m\u001b[0m\n\u001b[1;32m    109\u001b[0m             \u001b[0;32mreturn\u001b[0m \u001b[0mself\u001b[0m\u001b[0;34m.\u001b[0m\u001b[0mvalues\u001b[0m\u001b[0;34m(\u001b[0m\u001b[0;34m)\u001b[0m\u001b[0;34m[\u001b[0m\u001b[0mitem\u001b[0m\u001b[0;34m]\u001b[0m\u001b[0;34m\u001b[0m\u001b[0m\n",
        "\u001b[0;31mKeyError\u001b[0m: 'Mhost'"
       ]
      }
     ],
     "prompt_number": 22
    },
    {
     "cell_type": "code",
     "collapsed": false,
     "input": [
      "print(t[0:15])"
     ],
     "language": "python",
     "metadata": {},
     "outputs": []
    },
    {
     "cell_type": "markdown",
     "metadata": {},
     "source": [
      "### Computing subhalo number counts"
     ]
    },
    {
     "cell_type": "markdown",
     "metadata": {},
     "source": [
      "Now that we have the basic algorithm in place, we can start riffing on it to calculate other group-aggregation quantities. Here is an example of how to compute a new column storing the number of subhalos in each host. "
     ]
    },
    {
     "cell_type": "code",
     "collapsed": false,
     "input": [
      "for ihost, host_halo_id in enumerate(halo_ids_of_hosts):\n",
      "    first_ihost_idx = idx_hosts[ihost]\n",
      "    last_ihost_idx = first_ihost_idx + host_richness[ihost]\n",
      "    temp_arr[first_ihost_idx:last_ihost_idx] = host_richness[ihost] - 1\n",
      "    t['Nsub'][first_ihost_idx:last_ihost_idx] = host_richness[ihost] - 1"
     ],
     "language": "python",
     "metadata": {},
     "outputs": []
    },
    {
     "cell_type": "code",
     "collapsed": false,
     "input": [
      "print(t[0:15])"
     ],
     "language": "python",
     "metadata": {},
     "outputs": []
    },
    {
     "cell_type": "markdown",
     "metadata": {},
     "source": [
      "### Computing mass-weighted average subhalo spin"
     ]
    },
    {
     "cell_type": "markdown",
     "metadata": {},
     "source": [
      "This example and the next one demo a couple of more complicated examples that you should be able to pattern-match for whatever your use-case is. Here we'll compute the mass-weighted average spin of all the *subhalos* in each group. "
     ]
    },
    {
     "cell_type": "code",
     "collapsed": false,
     "input": [
      "for ihost, host_halo_id in enumerate(halo_ids_of_hosts):\n",
      "    first_ihost_idx = idx_hosts[ihost]\n",
      "    last_ihost_idx = first_ihost_idx + host_richness[ihost]\n",
      "    \n",
      "    subhalo_masses = t['halo_mvir'][first_ihost_idx+1:last_ihost_idx]\n",
      "    subhalo_spins = t['halo_mvir'][first_ihost_idx+1:last_ihost_idx]\n",
      "    \n",
      "    s = sum(subhalo_masses*subhalo_spins)\n",
      "    Nsub = Nsub = host_richness[ihost] - 1\n",
      "\n",
      "    try:\n",
      "        result = s/float(Nsub)\n",
      "    except ZeroDivisionError:\n",
      "        result = 0.\n",
      "\n",
      "    t['mean_mass_weighted_subhalo_spin'][first_ihost_idx:last_ihost_idx] = result\n",
      "    "
     ],
     "language": "python",
     "metadata": {},
     "outputs": []
    },
    {
     "cell_type": "markdown",
     "metadata": {},
     "source": [
      "Whoa, that was *really* slow!"
     ]
    },
    {
     "cell_type": "code",
     "collapsed": false,
     "input": [],
     "language": "python",
     "metadata": {},
     "outputs": []
    }
   ],
   "metadata": {}
  }
 ]
}