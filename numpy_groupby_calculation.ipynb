{
 "metadata": {
  "name": "",
  "signature": "sha256:db2fd5f725884a0925234cd10df0a11004b25f9f5f6a20522be16cbd9967da27"
 },
 "nbformat": 3,
 "nbformat_minor": 0,
 "worksheets": [
  {
   "cells": [
    {
     "cell_type": "markdown",
     "metadata": {},
     "source": [
      "# Create some fake data"
     ]
    },
    {
     "cell_type": "code",
     "collapsed": false,
     "input": [
      "Nsubhalos = 1e6\n",
      "Nhosts = 3e5"
     ],
     "language": "python",
     "metadata": {},
     "outputs": [],
     "prompt_number": 1
    },
    {
     "cell_type": "code",
     "collapsed": false,
     "input": [
      "halo_id = np.arange(Nsubhalos, dtype=int)\n",
      "np.random.shuffle(halo_id)"
     ],
     "language": "python",
     "metadata": {},
     "outputs": [],
     "prompt_number": 2
    },
    {
     "cell_type": "code",
     "collapsed": false,
     "input": [
      "upid = np.zeros(Nsubhalos, dtype=int) - 1\n",
      "upid[Nhosts:] = np.random.choice(halo_id[0:Nhosts], len(upid[Nhosts:]))\n",
      "print(upid[0:4])\n",
      "print(upid[-4:])"
     ],
     "language": "python",
     "metadata": {},
     "outputs": [
      {
       "output_type": "stream",
       "stream": "stdout",
       "text": [
        "[-1 -1 -1 -1]\n",
        "[486428 186508 539360 336428]\n"
       ]
      }
     ],
     "prompt_number": 3
    },
    {
     "cell_type": "code",
     "collapsed": false,
     "input": [
      "mvir = np.zeros(Nsubhalos)\n",
      "mvir[0:Nhosts] = np.random.uniform(1e14, 1e15, len(mvir[0:Nhosts]))\n",
      "mvir[Nhosts:] = np.random.uniform(1e10, 1e12, len(mvir[Nhosts:]))\n",
      "print(mvir[0:4])\n",
      "print(mvir[-4:])"
     ],
     "language": "python",
     "metadata": {},
     "outputs": [
      {
       "output_type": "stream",
       "stream": "stdout",
       "text": [
        "[  5.08163972e+14   6.23345770e+14   7.77073134e+14   2.14120701e+14]\n",
        "[  8.53412119e+11   9.52450459e+11   6.27183272e+11   7.28922068e+11]\n"
       ]
      }
     ],
     "prompt_number": 4
    },
    {
     "cell_type": "code",
     "collapsed": false,
     "input": [
      "spin = np.random.random(Nsubhalos)"
     ],
     "language": "python",
     "metadata": {},
     "outputs": [],
     "prompt_number": 5
    },
    {
     "cell_type": "code",
     "collapsed": false,
     "input": [
      "from astropy.table import Table\n",
      "t = Table({'halo_id': halo_id, 'halo_upid': upid, \n",
      "           'halo_mvir': mvir, 'halo_spin': spin})"
     ],
     "language": "python",
     "metadata": {},
     "outputs": [],
     "prompt_number": 6
    },
    {
     "cell_type": "code",
     "collapsed": false,
     "input": [
      "t['halo_hostid'] = 0\n",
      "t['halo_hostid'][t['halo_upid']==-1] = t['halo_id'][t['halo_upid']==-1]\n",
      "t['halo_hostid'][t['halo_upid']!=-1] = t['halo_upid'][t['halo_upid']!=-1]"
     ],
     "language": "python",
     "metadata": {},
     "outputs": [],
     "prompt_number": 7
    },
    {
     "cell_type": "code",
     "collapsed": false,
     "input": [
      "# Let's look at the first few host halos\n",
      "print(t[0:4])"
     ],
     "language": "python",
     "metadata": {},
     "outputs": [
      {
       "output_type": "stream",
       "stream": "stdout",
       "text": [
        "halo_upid    halo_spin        halo_mvir     halo_id halo_hostid\n",
        "--------- --------------- ----------------- ------- -----------\n",
        "       -1  0.349276693346 5.08163971686e+14  154299      154299\n",
        "       -1 0.0819462995253 6.23345769545e+14   31965       31965\n",
        "       -1  0.187729648059 7.77073133739e+14  995788      995788\n",
        "       -1 0.0926340023514  2.1412070123e+14  373286      373286\n"
       ]
      }
     ],
     "prompt_number": 8
    },
    {
     "cell_type": "code",
     "collapsed": false,
     "input": [
      "# Let's look at the last few subhalos\n",
      "print(t[-4:])"
     ],
     "language": "python",
     "metadata": {},
     "outputs": [
      {
       "output_type": "stream",
       "stream": "stdout",
       "text": [
        "halo_upid    halo_spin      halo_mvir    halo_id halo_hostid\n",
        "--------- --------------- -------------- ------- -----------\n",
        "   486428 0.0954008119102 853412118591.0  987390      486428\n",
        "   186508  0.448752499496 952450459279.0  712177      186508\n",
        "   539360  0.843481648483 627183272240.0  685868      539360\n",
        "   336428  0.277148388222 728922068200.0  750533      336428\n"
       ]
      }
     ],
     "prompt_number": 9
    },
    {
     "cell_type": "code",
     "collapsed": false,
     "input": [
      "t.sort(['halo_hostid', 'halo_upid'])"
     ],
     "language": "python",
     "metadata": {},
     "outputs": [],
     "prompt_number": 10
    },
    {
     "cell_type": "code",
     "collapsed": false,
     "input": [
      "print(t[0:15])"
     ],
     "language": "python",
     "metadata": {},
     "outputs": [
      {
       "output_type": "stream",
       "stream": "stdout",
       "text": [
        "halo_upid    halo_spin        halo_mvir     halo_id halo_hostid\n",
        "--------- --------------- ----------------- ------- -----------\n",
        "       -1   0.21501777793 2.82476444779e+14       0           0\n",
        "        0  0.568678881763    724409643077.0  628501           0\n",
        "        0  0.369418336704    714369711558.0  834276           0\n",
        "       -1  0.728631133699 7.39593167261e+14       1           1\n",
        "        1   0.82231966914     51016304464.7  875871           1\n",
        "        1  0.729299863912    918103220460.0   37532           1\n",
        "       -1  0.196419654103 7.44349930518e+14       2           2\n",
        "        2 0.0840515126582    511316049608.0  256267           2\n",
        "        2  0.546696741599    310824734421.0  502942           2\n",
        "       -1  0.298942254539 7.49613965008e+14       7           7\n",
        "        7  0.382087271429    679792668467.0  743997           7\n",
        "        7  0.498782021726    585359208141.0  490988           7\n",
        "        7  0.769345818432    327195405440.0   79166           7\n",
        "       -1   0.23506584849 4.68340974687e+14      10          10\n",
        "       10  0.206106305053    777738119789.0  866912          10\n"
       ]
      }
     ],
     "prompt_number": 11
    },
    {
     "cell_type": "code",
     "collapsed": false,
     "input": [
      "host_halo_mask = t['halo_hostid'] == t['halo_id']\n",
      "halo_ids_of_hosts = t['halo_id'][host_halo_mask]\n",
      "print(len(halo_ids_of_hosts))\n",
      "print(halo_ids_of_hosts[0:5])"
     ],
     "language": "python",
     "metadata": {},
     "outputs": [
      {
       "output_type": "stream",
       "stream": "stdout",
       "text": [
        "300000\n",
        "halo_id\n",
        "-------\n",
        "      0\n",
        "      1\n",
        "      2\n",
        "      7\n",
        "     10\n"
       ]
      }
     ],
     "prompt_number": 12
    },
    {
     "cell_type": "code",
     "collapsed": false,
     "input": [
      "halo_ids_of_hosts, idx_hosts, host_richness = np.unique(t['halo_hostid'], \n",
      "                                                        return_index = True, return_counts = True)"
     ],
     "language": "python",
     "metadata": {},
     "outputs": [],
     "prompt_number": 13
    },
    {
     "cell_type": "code",
     "collapsed": false,
     "input": [
      "t['Mhost'] = 0.\n",
      "t['Mhost'][host_halo_mask] = t['halo_mvir'][host_halo_mask]"
     ],
     "language": "python",
     "metadata": {},
     "outputs": [],
     "prompt_number": 14
    },
    {
     "cell_type": "code",
     "collapsed": false,
     "input": [
      "print(t[0:15])"
     ],
     "language": "python",
     "metadata": {},
     "outputs": [
      {
       "output_type": "stream",
       "stream": "stdout",
       "text": [
        "halo_upid    halo_spin        halo_mvir     ... halo_hostid       Mhost      \n",
        "--------- --------------- ----------------- ... ----------- -----------------\n",
        "       -1   0.21501777793 2.82476444779e+14 ...           0 2.82476444779e+14\n",
        "        0  0.568678881763    724409643077.0 ...           0               0.0\n",
        "        0  0.369418336704    714369711558.0 ...           0               0.0\n",
        "       -1  0.728631133699 7.39593167261e+14 ...           1 7.39593167261e+14\n",
        "        1   0.82231966914     51016304464.7 ...           1               0.0\n",
        "        1  0.729299863912    918103220460.0 ...           1               0.0\n",
        "       -1  0.196419654103 7.44349930518e+14 ...           2 7.44349930518e+14\n",
        "        2 0.0840515126582    511316049608.0 ...           2               0.0\n",
        "        2  0.546696741599    310824734421.0 ...           2               0.0\n",
        "       -1  0.298942254539 7.49613965008e+14 ...           7 7.49613965008e+14\n",
        "        7  0.382087271429    679792668467.0 ...           7               0.0\n",
        "        7  0.498782021726    585359208141.0 ...           7               0.0\n",
        "        7  0.769345818432    327195405440.0 ...           7               0.0\n",
        "       -1   0.23506584849 4.68340974687e+14 ...          10 4.68340974687e+14\n",
        "       10  0.206106305053    777738119789.0 ...          10               0.0\n"
       ]
      }
     ],
     "prompt_number": 15
    },
    {
     "cell_type": "code",
     "collapsed": false,
     "input": [
      "def dummy(t):\n",
      "    halo_ids_of_hosts, idx_hosts, host_richness = np.unique(t['halo_hostid'], \n",
      "                                                            return_index = True, \n",
      "                                                            return_counts = True)    \n",
      "    for ihost, host_halo_id in enumerate(halo_ids_of_hosts):\n",
      "        first_idx = idx_hosts[ihost]\n",
      "        last_idx = first_idx + host_richness[ihost]\n",
      "        t['Mhost'][first_idx:last_idx] = t['halo_mvir'][first_idx]"
     ],
     "language": "python",
     "metadata": {},
     "outputs": [],
     "prompt_number": 16
    },
    {
     "cell_type": "code",
     "collapsed": false,
     "input": [
      "%timeit dummy(t)"
     ],
     "language": "python",
     "metadata": {},
     "outputs": [
      {
       "output_type": "stream",
       "stream": "stdout",
       "text": [
        "1 loops, best of 3: 2.32 s per loop\n"
       ]
      }
     ],
     "prompt_number": 17
    },
    {
     "cell_type": "code",
     "collapsed": false,
     "input": [
      "def add_new_host_tag(table, grouping_key, new_key, host_prop_key):\n",
      "    halo_ids_of_hosts, idx_hosts, host_richness = np.unique(table[grouping_key], \n",
      "                                                            return_index = True, \n",
      "                                                            return_counts = True) \n",
      "    table[new_key] = 0.\n",
      "    for ihost, host_halo_id in enumerate(halo_ids_of_hosts):\n",
      "        first_idx = idx_hosts[ihost]\n",
      "        last_idx = first_idx + host_richness[ihost]\n",
      "        t[new_key][first_idx:last_idx] = t[host_prop_key][first_idx]  "
     ],
     "language": "python",
     "metadata": {},
     "outputs": [],
     "prompt_number": 29
    },
    {
     "cell_type": "code",
     "collapsed": false,
     "input": [],
     "language": "python",
     "metadata": {},
     "outputs": []
    }
   ],
   "metadata": {}
  }
 ]
}