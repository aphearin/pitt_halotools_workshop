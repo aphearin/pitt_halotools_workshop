{
 "metadata": {
  "name": "",
  "signature": "sha256:15943ec323e347be688437c413040b26fea914f6c186c013743752b79fc38c59"
 },
 "nbformat": 3,
 "nbformat_minor": 0,
 "worksheets": [
  {
   "cells": [
    {
     "cell_type": "markdown",
     "metadata": {},
     "source": [
      "# Tutorial on Group Aggregation with Numpy "
     ]
    },
    {
     "cell_type": "markdown",
     "metadata": {},
     "source": [
      "This tutorial describes how you can use Numpy and Astropy to do some common calculations on tabular data that comes in natural groupings, using subhalo catalogs as an example. There is much more information on http://docs.astropy.org/en/stable/table, including faster versions of at least some of the same calculations I'll do here. \n",
      "\n",
      "In short, here's what I'll show you how to do. First I'll generate some fake data that we'll use as a make-do catalog of halos and subhalos. If you haven't used Numpy before, this will also show you some useful syntax for array slicing and also a few randomization tricks. Using that fake data, we'll see how to perform the following calculations reasonably fast: for every collection of subhalos, compute the mass of the host halo, and also compute the mass-weighted average spin of each collection of subhalos. If you work with grouped data, you'll likely encounter some very close version of this kind of calculation over and over. "
     ]
    },
    {
     "cell_type": "markdown",
     "metadata": {},
     "source": [
      "### Generate some fake data"
     ]
    },
    {
     "cell_type": "markdown",
     "metadata": {},
     "source": [
      "First things first, let's generate a fake subhalo catalog. There will be *Ntotal* different objects. Some of these objects will be *host halos*, others will be *subhalos*. A subhalo is located inside the virial radius of a host halo. "
     ]
    },
    {
     "cell_type": "code",
     "collapsed": false,
     "input": [
      "Ntotal = 1e6\n",
      "Nhosts = 3e5\n",
      "Nsubhalos = Ntotal - Nhosts"
     ],
     "language": "python",
     "metadata": {},
     "outputs": [],
     "prompt_number": 1
    },
    {
     "cell_type": "markdown",
     "metadata": {},
     "source": [
      "First let's create an array of unique ids, one for each object"
     ]
    },
    {
     "cell_type": "code",
     "collapsed": false,
     "input": [
      "import numpy as np"
     ],
     "language": "python",
     "metadata": {},
     "outputs": [],
     "prompt_number": 2
    },
    {
     "cell_type": "code",
     "collapsed": false,
     "input": [
      "halo_id = np.arange(Ntotal, dtype=int)\n",
      "np.random.shuffle(halo_id)"
     ],
     "language": "python",
     "metadata": {},
     "outputs": [],
     "prompt_number": 3
    },
    {
     "cell_type": "markdown",
     "metadata": {},
     "source": [
      "Now we'll create a *upid*, jargon for \"\u00fcber parent ID\", defined as follows. If *upid = -1*, the objet is a host halo; otherwise, *upid* equals the *halo_id* of the associated host halo. "
     ]
    },
    {
     "cell_type": "code",
     "collapsed": false,
     "input": [
      "upid = np.zeros(Ntotal, dtype=int) - 1 # initialize all values to -1\n",
      "\n",
      "# Now use Numpy to define a upid for each subhalo \n",
      "# by randomly selecting a host halo id\n",
      "upid[Nhosts:] = np.random.choice(halo_id[0:Nhosts], Nsubhalos)\n"
     ],
     "language": "python",
     "metadata": {},
     "outputs": [],
     "prompt_number": 4
    },
    {
     "cell_type": "markdown",
     "metadata": {},
     "source": [
      "Notice the ordering of *upid*: the first *Nhosts* elements have *upid = -1*, so even though the halo_id is a randomly sorted array, our data is sorted such that host halos appear first. This will be a nuisance that we will need to fix in a moment. First, let's just inspect:"
     ]
    },
    {
     "cell_type": "code",
     "collapsed": false,
     "input": [
      "print(upid[0:4])\n",
      "print(upid[-4:])"
     ],
     "language": "python",
     "metadata": {},
     "outputs": [
      {
       "output_type": "stream",
       "stream": "stdout",
       "text": [
        "[-1 -1 -1 -1]\n",
        "[ 43243 133022 820171 519053]\n"
       ]
      }
     ],
     "prompt_number": 5
    },
    {
     "cell_type": "markdown",
     "metadata": {},
     "source": [
      "Now let's define some random masses for our hosts and subs. Again we'll use `np.random`, and sort of arbitrarily and unrealistically defining all the subhalos and host halos to live in different mass ranges (hey, it's fake data):"
     ]
    },
    {
     "cell_type": "code",
     "collapsed": false,
     "input": [
      "mvir = np.zeros(Ntotal)\n",
      "mvir[0:Nhosts] = np.random.uniform(1e14, 1e15, len(mvir[0:Nhosts]))\n",
      "mvir[Nhosts:] = np.random.uniform(1e10, 1e12, len(mvir[Nhosts:]))\n",
      "print(mvir[0:4])\n",
      "print(mvir[-4:])"
     ],
     "language": "python",
     "metadata": {},
     "outputs": [
      {
       "output_type": "stream",
       "stream": "stdout",
       "text": [
        "[  9.24401197e+14   4.92960666e+14   2.58554803e+14   3.51218152e+14]\n",
        "[  6.40943280e+11   6.04479104e+11   3.68815424e+11   4.46878228e+11]\n"
       ]
      }
     ],
     "prompt_number": 6
    },
    {
     "cell_type": "markdown",
     "metadata": {},
     "source": [
      "Finally, lets just pick a bunch of random numbers for the spin of each (sub)halo:"
     ]
    },
    {
     "cell_type": "code",
     "collapsed": false,
     "input": [
      "spin = np.random.random(Ntotal)"
     ],
     "language": "python",
     "metadata": {},
     "outputs": [],
     "prompt_number": 7
    },
    {
     "cell_type": "markdown",
     "metadata": {},
     "source": [
      "### Bundle that data into an Astropy Table"
     ]
    },
    {
     "cell_type": "code",
     "collapsed": false,
     "input": [
      "from astropy.table import Table\n",
      "t = Table({'halo_id': halo_id, 'halo_upid': upid, \n",
      "           'halo_mvir': mvir, 'halo_spin': spin})"
     ],
     "language": "python",
     "metadata": {},
     "outputs": [],
     "prompt_number": 8
    },
    {
     "cell_type": "markdown",
     "metadata": {},
     "source": [
      "Astropy tables have a nice built-in print statement. This lets us easily see that our subhalo table is indeed sorted host-halos-first:"
     ]
    },
    {
     "cell_type": "code",
     "collapsed": false,
     "input": [
      "print(t[0:5])"
     ],
     "language": "python",
     "metadata": {},
     "outputs": [
      {
       "output_type": "stream",
       "stream": "stdout",
       "text": [
        "halo_upid   halo_spin        halo_mvir     halo_id\n",
        "--------- -------------- ----------------- -------\n",
        "       -1 0.190657245213 9.24401197482e+14  324554\n",
        "       -1 0.419057159118 4.92960666077e+14  322907\n",
        "       -1 0.730538058566 2.58554802523e+14  664986\n",
        "       -1 0.912783909283  3.5121815234e+14  297687\n",
        "       -1 0.338227080972 1.44944980503e+14  879416\n"
       ]
      }
     ],
     "prompt_number": 9
    },
    {
     "cell_type": "code",
     "collapsed": false,
     "input": [
      "print(t[-5:])"
     ],
     "language": "python",
     "metadata": {},
     "outputs": [
      {
       "output_type": "stream",
       "stream": "stdout",
       "text": [
        "halo_upid    halo_spin      halo_mvir    halo_id\n",
        "--------- --------------- -------------- -------\n",
        "   570707 0.0837360676698 534100868754.0  563716\n",
        "    43243  0.524652703965 640943280313.0  346293\n",
        "   133022  0.700504902619 604479104140.0   53795\n",
        "   820171  0.184649642955 368815423686.0  327976\n",
        "   519053   0.59384328668 446878227698.0  236787\n"
       ]
      }
     ],
     "prompt_number": 10
    },
    {
     "cell_type": "markdown",
     "metadata": {},
     "source": [
      "### Create a convenient grouping key"
     ]
    },
    {
     "cell_type": "markdown",
     "metadata": {},
     "source": [
      "There is one bookkeeping trick that is very handy in this kind of analysis. Let's create a new *halo_hostid* column in our table, defined as follows: for host halos, *halo_hostid* is just equal to *halo_id*, for subhalos *halo_hostid* equals *halo_upid*. (So the only difference between *halo_hostid* and *halo_upid* is for hosts). \n",
      "\n",
      "To create a new, empty column:"
     ]
    },
    {
     "cell_type": "code",
     "collapsed": false,
     "input": [
      "t['halo_hostid'] = 0\n",
      "# Let's look at the first few host halos\n",
      "print(t[0:4])"
     ],
     "language": "python",
     "metadata": {},
     "outputs": [
      {
       "output_type": "stream",
       "stream": "stdout",
       "text": [
        "halo_upid   halo_spin        halo_mvir     halo_id halo_hostid\n",
        "--------- -------------- ----------------- ------- -----------\n",
        "       -1 0.190657245213 9.24401197482e+14  324554           0\n",
        "       -1 0.419057159118 4.92960666077e+14  322907           0\n",
        "       -1 0.730538058566 2.58554802523e+14  664986           0\n",
        "       -1 0.912783909283  3.5121815234e+14  297687           0\n"
       ]
      }
     ],
     "prompt_number": 11
    },
    {
     "cell_type": "code",
     "collapsed": false,
     "input": [
      "host_halo_mask = t['halo_upid'] == -1"
     ],
     "language": "python",
     "metadata": {},
     "outputs": [],
     "prompt_number": 12
    },
    {
     "cell_type": "code",
     "collapsed": false,
     "input": [
      "t['halo_hostid'][host_halo_mask] = t['halo_id'][host_halo_mask]\n",
      "t['halo_hostid'][~host_halo_mask] = t['halo_upid'][~host_halo_mask]"
     ],
     "language": "python",
     "metadata": {},
     "outputs": [],
     "prompt_number": 13
    },
    {
     "cell_type": "code",
     "collapsed": false,
     "input": [
      "# Let's look at the first few host halos\n",
      "print(t[0:4])"
     ],
     "language": "python",
     "metadata": {},
     "outputs": [
      {
       "output_type": "stream",
       "stream": "stdout",
       "text": [
        "halo_upid   halo_spin        halo_mvir     halo_id halo_hostid\n",
        "--------- -------------- ----------------- ------- -----------\n",
        "       -1 0.190657245213 9.24401197482e+14  324554      324554\n",
        "       -1 0.419057159118 4.92960666077e+14  322907      322907\n",
        "       -1 0.730538058566 2.58554802523e+14  664986      664986\n",
        "       -1 0.912783909283  3.5121815234e+14  297687      297687\n"
       ]
      }
     ],
     "prompt_number": 14
    },
    {
     "cell_type": "code",
     "collapsed": false,
     "input": [
      "# Let's look at the last few subhalos\n",
      "print(t[-4:])"
     ],
     "language": "python",
     "metadata": {},
     "outputs": [
      {
       "output_type": "stream",
       "stream": "stdout",
       "text": [
        "halo_upid   halo_spin      halo_mvir    halo_id halo_hostid\n",
        "--------- -------------- -------------- ------- -----------\n",
        "    43243 0.524652703965 640943280313.0  346293       43243\n",
        "   133022 0.700504902619 604479104140.0   53795      133022\n",
        "   820171 0.184649642955 368815423686.0  327976      820171\n",
        "   519053  0.59384328668 446878227698.0  236787      519053\n"
       ]
      }
     ],
     "prompt_number": 15
    },
    {
     "cell_type": "markdown",
     "metadata": {},
     "source": [
      "Ok, here's why we did that. We're going to sort our halo table now. And we're going to do a \"double-sort\". First, we run a sort on *halo_hostid*, so that the first entries of the table have  the smallest value of this column. Then, **within each halo_hostid grouping**, we'll sort on *halo_upid*. That's a complicated set of operations, and there's an optimized sorting routine built into Astropy tables that handles it for us:"
     ]
    },
    {
     "cell_type": "code",
     "collapsed": false,
     "input": [
      "t.sort(['halo_hostid', 'halo_upid'])"
     ],
     "language": "python",
     "metadata": {},
     "outputs": [],
     "prompt_number": 16
    },
    {
     "cell_type": "markdown",
     "metadata": {},
     "source": [
      "Now our table has the following very convenient organization. Each collection of hosts + subs belonging to the same system are grouped together, always such that the host halo appears first in each new system:"
     ]
    },
    {
     "cell_type": "code",
     "collapsed": false,
     "input": [
      "print(t[0:15])"
     ],
     "language": "python",
     "metadata": {},
     "outputs": [
      {
       "output_type": "stream",
       "stream": "stdout",
       "text": [
        "halo_upid   halo_spin        halo_mvir     halo_id halo_hostid\n",
        "--------- -------------- ----------------- ------- -----------\n",
        "       -1 0.890996269164 8.93099497113e+14       0           0\n",
        "        0 0.245213263897    523044613383.0  517212           0\n",
        "        0 0.760285938737    770487038092.0  335497           0\n",
        "       -1 0.394316882227 7.76556872591e+14       1           1\n",
        "        1  0.51225208461    712358574675.0  761391           1\n",
        "        1 0.822625013231    979650142501.0  209503           1\n",
        "        1 0.719314950289    981053489394.0  725772           1\n",
        "        1 0.378683058979    961977379981.0  783609           1\n",
        "       -1 0.472364527762 5.66539292927e+14       9           9\n",
        "       -1 0.763079843484 1.04566968294e+14      16          16\n",
        "       16 0.345843209033    148061941040.0  187299          16\n",
        "       -1 0.243640033706 6.63364406816e+14      17          17\n",
        "       -1 0.474308143378 8.96607972374e+14      18          18\n",
        "       18 0.858353065414    991494778487.0   89935          18\n",
        "       -1 0.139269888129 6.61432605489e+14      21          21\n"
       ]
      }
     ],
     "prompt_number": 17
    },
    {
     "cell_type": "markdown",
     "metadata": {},
     "source": [
      "## Using Numpy in group-aggregation calculations"
     ]
    },
    {
     "cell_type": "markdown",
     "metadata": {},
     "source": [
      "Numpy comes with an extremely useful and terrifically fast method `np.unique` that can be used on data organized as above:"
     ]
    },
    {
     "cell_type": "code",
     "collapsed": false,
     "input": [
      "halo_ids_of_hosts, idx_hosts, host_richness = np.unique(t['halo_hostid'], \n",
      "                                                        return_index = True, \n",
      "                                                        return_counts = True)    \n"
     ],
     "language": "python",
     "metadata": {},
     "outputs": [],
     "prompt_number": 18
    },
    {
     "cell_type": "markdown",
     "metadata": {},
     "source": [
      "Here's what that did. It looped over the *halo_hostid* column of our table and returned the set of distinct elements of this column; we stored that result in the *halo_ids_of_hosts* array. \n",
      "\n",
      "By setting the *return_index* argument to `True`, `np.unique` also returned the *indices* of the arrays where the *halo_hostid* attained each of these unique values. \n",
      "\n",
      "Finally, by setting *return_counts* to `True`, `np.unique` returned the total number of appearances of each unique value of the *halo_hostid* column. \n",
      "\n",
      "Let's compare the table printed above to each of these arrays to make sure `np.unique` does what I just said it does:"
     ]
    },
    {
     "cell_type": "code",
     "collapsed": false,
     "input": [
      "print(halo_ids_of_hosts[0:3])"
     ],
     "language": "python",
     "metadata": {},
     "outputs": [
      {
       "output_type": "stream",
       "stream": "stdout",
       "text": [
        "halo_hostid\n",
        "-----------\n",
        "          0\n",
        "          1\n",
        "          9\n"
       ]
      }
     ],
     "prompt_number": 23
    },
    {
     "cell_type": "code",
     "collapsed": false,
     "input": [
      "print(idx_hosts[0:3])"
     ],
     "language": "python",
     "metadata": {},
     "outputs": [
      {
       "output_type": "stream",
       "stream": "stdout",
       "text": [
        "halo_hostid\n",
        "-----------\n",
        "          0\n",
        "          3\n",
        "          8\n"
       ]
      }
     ],
     "prompt_number": 24
    },
    {
     "cell_type": "code",
     "collapsed": false,
     "input": [
      "print(host_richness[0:3])"
     ],
     "language": "python",
     "metadata": {},
     "outputs": [
      {
       "output_type": "stream",
       "stream": "stdout",
       "text": [
        "[3 5 1]\n"
       ]
      }
     ],
     "prompt_number": 25
    },
    {
     "cell_type": "markdown",
     "metadata": {},
     "source": [
      "Ok, now let's use the results of `np.unique` to create a new column for our table, `Mhost`. For host halos, this column is just equal to `halo_mvir`; for subhalos, this equals the value of `halo_mvir` of the associated host. We'll compute this by looping over the array returned by `np.unique`:"
     ]
    },
    {
     "cell_type": "code",
     "collapsed": false,
     "input": [
      "t['Mhost'] = 0.\n",
      "for ihost, host_halo_id in enumerate(halo_ids_of_hosts):\n",
      "    first_ihost_idx = idx_hosts[ihost]\n",
      "    last_ihost_idx = first_ihost_idx + host_richness[ihost]\n",
      "    t['Mhost'][first_ihost_idx:last_ihost_idx] = t['halo_mvir'][first_ihost_idx]"
     ],
     "language": "python",
     "metadata": {},
     "outputs": [],
     "prompt_number": 27
    },
    {
     "cell_type": "code",
     "collapsed": false,
     "input": [
      "print(t[0:15])"
     ],
     "language": "python",
     "metadata": {},
     "outputs": [
      {
       "output_type": "stream",
       "stream": "stdout",
       "text": [
        "halo_upid   halo_spin        halo_mvir     halo_id halo_hostid       Mhost      \n",
        "--------- -------------- ----------------- ------- ----------- -----------------\n",
        "       -1 0.890996269164 8.93099497113e+14       0           0 8.93099497113e+14\n",
        "        0 0.245213263897    523044613383.0  517212           0 8.93099497113e+14\n",
        "        0 0.760285938737    770487038092.0  335497           0 8.93099497113e+14\n",
        "       -1 0.394316882227 7.76556872591e+14       1           1 7.76556872591e+14\n",
        "        1  0.51225208461    712358574675.0  761391           1 7.76556872591e+14\n",
        "        1 0.822625013231    979650142501.0  209503           1 7.76556872591e+14\n",
        "        1 0.719314950289    981053489394.0  725772           1 7.76556872591e+14\n",
        "        1 0.378683058979    961977379981.0  783609           1 7.76556872591e+14\n",
        "       -1 0.472364527762 5.66539292927e+14       9           9 5.66539292927e+14\n",
        "       -1 0.763079843484 1.04566968294e+14      16          16 1.04566968294e+14\n",
        "       16 0.345843209033    148061941040.0  187299          16 1.04566968294e+14\n",
        "       -1 0.243640033706 6.63364406816e+14      17          17 6.63364406816e+14\n",
        "       -1 0.474308143378 8.96607972374e+14      18          18 8.96607972374e+14\n",
        "       18 0.858353065414    991494778487.0   89935          18 8.96607972374e+14\n",
        "       -1 0.139269888129 6.61432605489e+14      21          21 6.61432605489e+14\n"
       ]
      }
     ],
     "prompt_number": 28
    },
    {
     "cell_type": "markdown",
     "metadata": {},
     "source": [
      "## Abstracting the calculation to make it reusable"
     ]
    },
    {
     "cell_type": "markdown",
     "metadata": {},
     "source": [
      "That last calculation was pretty fast, and it's so common that it's worth taking just a little bit of time to write a dedicated function to do it. There was a little bit of hard-coding in the above calculation, so here we'll get rid of that so that our solution has greater general applicability. \n",
      "\n",
      "We could have done it more abstractly from the get-go, but it's easier to develop an understanding of an algorithm on a concrete example before generalizing it, since abstact version inevitably ends up looking more complicated. "
     ]
    },
    {
     "cell_type": "code",
     "collapsed": false,
     "input": [
      "def add_new_host_tag(table, grouping_key, new_key, host_prop_key):\n",
      "    halo_ids_of_hosts, idx_hosts, host_richness = np.unique(table[grouping_key], \n",
      "                                                            return_index = True, \n",
      "                                                            return_counts = True) \n",
      "    table[new_key] = 0.\n",
      "    for ihost, host_halo_id in enumerate(halo_ids_of_hosts):\n",
      "        first_idx = idx_hosts[ihost]\n",
      "        last_idx = first_idx + host_richness[ihost]\n",
      "        t[new_key][first_idx:last_idx] = t[host_prop_key][first_idx]  "
     ],
     "language": "python",
     "metadata": {},
     "outputs": [],
     "prompt_number": 29
    },
    {
     "cell_type": "code",
     "collapsed": false,
     "input": [],
     "language": "python",
     "metadata": {},
     "outputs": []
    }
   ],
   "metadata": {}
  }
 ]
}