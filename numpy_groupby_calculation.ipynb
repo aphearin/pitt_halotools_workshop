{
 "metadata": {
  "name": "",
  "signature": "sha256:6cf8696e1bc7795f628d48f54ef3dde64b77c8c6d1d5b8945248a80d344b207d"
 },
 "nbformat": 3,
 "nbformat_minor": 0,
 "worksheets": [
  {
   "cells": [
    {
     "cell_type": "markdown",
     "metadata": {},
     "source": [
      "# Tutorial on Group Aggregation with Numpy "
     ]
    },
    {
     "cell_type": "markdown",
     "metadata": {},
     "source": [
      "This tutorial describes how you can use Numpy and Astropy to do some common calculations on tabular data that comes in natural groupings, using subhalo catalogs as an example. There is much more information on http://docs.astropy.org/en/stable/table, including faster versions of at least some of the same calculations I'll do here. \n",
      "\n",
      "In short, here's what I'll show you how to do. First I'll generate some fake data that we'll use as a make-do catalog of halos and subhalos. If you haven't used Numpy before, this will also show you some useful syntax for array slicing and also a few randomization tricks. Using that fake data, we'll see how to perform the following calculations reasonably fast: for every collection of subhalos, compute the mass of the host halo, and also compute the mass-weighted average spin of each collection of subhalos. If you work with grouped data, you'll likely encounter some very close version of this kind of calculation over and over. "
     ]
    },
    {
     "cell_type": "markdown",
     "metadata": {},
     "source": [
      "### Generate some fake data"
     ]
    },
    {
     "cell_type": "markdown",
     "metadata": {},
     "source": [
      "First things first, let's generate a fake subhalo catalog. There will be *Ntotal* different objects. Some of these objects will be *host halos*, others will be *subhalos*. A subhalo is located inside the virial radius of a host halo. "
     ]
    },
    {
     "cell_type": "code",
     "collapsed": false,
     "input": [
      "Ntotal = 1e6\n",
      "Nhosts = 3e5\n",
      "Nsubhalos = Ntotal - Nhosts"
     ],
     "language": "python",
     "metadata": {},
     "outputs": [],
     "prompt_number": 1
    },
    {
     "cell_type": "markdown",
     "metadata": {},
     "source": [
      "First let's create an array of unique ids, one for each object"
     ]
    },
    {
     "cell_type": "code",
     "collapsed": false,
     "input": [
      "import numpy as np"
     ],
     "language": "python",
     "metadata": {},
     "outputs": [],
     "prompt_number": 2
    },
    {
     "cell_type": "code",
     "collapsed": false,
     "input": [
      "halo_id = np.arange(Ntotal, dtype=int)\n",
      "np.random.shuffle(halo_id)"
     ],
     "language": "python",
     "metadata": {},
     "outputs": [],
     "prompt_number": 3
    },
    {
     "cell_type": "markdown",
     "metadata": {},
     "source": [
      "Now we'll create a *upid*, jargon for \"\u00fcber parent ID\", defined as follows. If *upid = -1*, the objet is a host halo; otherwise, *upid* equals the *halo_id* of the associated host halo. "
     ]
    },
    {
     "cell_type": "code",
     "collapsed": false,
     "input": [
      "upid = np.zeros(Ntotal, dtype=int) - 1 # initialize all values to -1\n",
      "\n",
      "# Now use Numpy to define a upid for each subhalo \n",
      "# by randomly selecting a host halo id\n",
      "upid[Nhosts:] = np.random.choice(halo_id[0:Nhosts], Nsubhalos)\n"
     ],
     "language": "python",
     "metadata": {},
     "outputs": [],
     "prompt_number": 4
    },
    {
     "cell_type": "markdown",
     "metadata": {},
     "source": [
      "Notice the ordering of *upid*: the first *Nhosts* elements have *upid = -1*, so even though the halo_id is a randomly sorted array, our data is sorted such that host halos appear first. This will be a nuisance that we will need to fix in a moment. First, let's just inspect:"
     ]
    },
    {
     "cell_type": "code",
     "collapsed": false,
     "input": [
      "print(upid[0:4])\n",
      "print(upid[-4:])"
     ],
     "language": "python",
     "metadata": {},
     "outputs": [
      {
       "output_type": "stream",
       "stream": "stdout",
       "text": [
        "[-1 -1 -1 -1]\n",
        "[459611 466199 653632 255469]\n"
       ]
      }
     ],
     "prompt_number": 5
    },
    {
     "cell_type": "markdown",
     "metadata": {},
     "source": [
      "Now let's define some random masses for our hosts and subs. Again we'll use `np.random`, and sort of arbitrarily and unrealistically defining all the subhalos and host halos to live in different mass ranges (hey, it's fake data):"
     ]
    },
    {
     "cell_type": "code",
     "collapsed": false,
     "input": [
      "mvir = np.zeros(Ntotal)\n",
      "mvir[0:Nhosts] = np.random.uniform(1e14, 1e15, len(mvir[0:Nhosts]))\n",
      "mvir[Nhosts:] = np.random.uniform(1e10, 1e12, len(mvir[Nhosts:]))\n",
      "print(mvir[0:4])\n",
      "print(mvir[-4:])"
     ],
     "language": "python",
     "metadata": {},
     "outputs": [
      {
       "output_type": "stream",
       "stream": "stdout",
       "text": [
        "[  9.94889101e+14   1.85189905e+14   6.80393364e+14   9.24647902e+14]\n",
        "[  1.85820465e+11   9.43610050e+10   5.27228852e+11   4.63675249e+11]\n"
       ]
      }
     ],
     "prompt_number": 6
    },
    {
     "cell_type": "markdown",
     "metadata": {},
     "source": [
      "Finally, lets just pick a bunch of random numbers for the spin of each (sub)halo:"
     ]
    },
    {
     "cell_type": "code",
     "collapsed": false,
     "input": [
      "spin = np.random.random(Ntotal)"
     ],
     "language": "python",
     "metadata": {},
     "outputs": [],
     "prompt_number": 7
    },
    {
     "cell_type": "markdown",
     "metadata": {},
     "source": [
      "### Bundle that data into an Astropy Table"
     ]
    },
    {
     "cell_type": "code",
     "collapsed": false,
     "input": [
      "from astropy.table import Table\n",
      "t = Table({'halo_id': halo_id, 'halo_upid': upid, \n",
      "           'halo_mvir': mvir, 'halo_spin': spin})"
     ],
     "language": "python",
     "metadata": {},
     "outputs": [],
     "prompt_number": 8
    },
    {
     "cell_type": "markdown",
     "metadata": {},
     "source": [
      "Astropy tables have a nice built-in print statement. This lets us easily see that our subhalo table is indeed sorted host-halos-first:"
     ]
    },
    {
     "cell_type": "code",
     "collapsed": false,
     "input": [
      "print(t[0:5])"
     ],
     "language": "python",
     "metadata": {},
     "outputs": [
      {
       "output_type": "stream",
       "stream": "stdout",
       "text": [
        "halo_upid    halo_spin        halo_mvir     halo_id\n",
        "--------- --------------- ----------------- -------\n",
        "       -1  0.754047265442 9.94889100714e+14  851294\n",
        "       -1  0.924572346108 1.85189904768e+14  239567\n",
        "       -1 0.0199763951623 6.80393364473e+14  388717\n",
        "       -1  0.460656430138 9.24647901528e+14  405093\n",
        "       -1  0.971174009802 5.73352729935e+14  945365\n"
       ]
      }
     ],
     "prompt_number": 9
    },
    {
     "cell_type": "code",
     "collapsed": false,
     "input": [
      "print(t[-5:])"
     ],
     "language": "python",
     "metadata": {},
     "outputs": [
      {
       "output_type": "stream",
       "stream": "stdout",
       "text": [
        "halo_upid    halo_spin      halo_mvir    halo_id\n",
        "--------- --------------- -------------- -------\n",
        "   713713  0.938753934147 752359419398.0  753996\n",
        "   459611 0.0892823450615 185820465045.0  267854\n",
        "   466199  0.838745101944  94361004982.8  265674\n",
        "   653632  0.324462978893 527228852302.0  819523\n",
        "   255469  0.263896149803 463675248755.0  868507\n"
       ]
      }
     ],
     "prompt_number": 10
    },
    {
     "cell_type": "markdown",
     "metadata": {},
     "source": [
      "### Create a convenient grouping key"
     ]
    },
    {
     "cell_type": "markdown",
     "metadata": {},
     "source": [
      "There is one bookkeeping trick that is very handy in this kind of analysis. Let's create a new *halo_hostid* column in our table, defined as follows: for host halos, *halo_hostid* is just equal to *halo_id*, for subhalos *halo_hostid* equals *halo_upid*. (So the only difference between *halo_hostid* and *halo_upid* is for hosts). \n",
      "\n",
      "To create a new, empty column:"
     ]
    },
    {
     "cell_type": "code",
     "collapsed": false,
     "input": [
      "t['halo_hostid'] = 0\n",
      "# Let's look at the first few host halos\n",
      "print(t[0:4])"
     ],
     "language": "python",
     "metadata": {},
     "outputs": [
      {
       "output_type": "stream",
       "stream": "stdout",
       "text": [
        "halo_upid    halo_spin        halo_mvir     halo_id halo_hostid\n",
        "--------- --------------- ----------------- ------- -----------\n",
        "       -1  0.754047265442 9.94889100714e+14  851294           0\n",
        "       -1  0.924572346108 1.85189904768e+14  239567           0\n",
        "       -1 0.0199763951623 6.80393364473e+14  388717           0\n",
        "       -1  0.460656430138 9.24647901528e+14  405093           0\n"
       ]
      }
     ],
     "prompt_number": 11
    },
    {
     "cell_type": "code",
     "collapsed": false,
     "input": [
      "host_halo_mask = t['halo_upid'] == -1"
     ],
     "language": "python",
     "metadata": {},
     "outputs": [],
     "prompt_number": 12
    },
    {
     "cell_type": "code",
     "collapsed": false,
     "input": [
      "t['halo_hostid'][host_halo_mask] = t['halo_id'][host_halo_mask]\n",
      "t['halo_hostid'][~host_halo_mask] = t['halo_upid'][~host_halo_mask]"
     ],
     "language": "python",
     "metadata": {},
     "outputs": [],
     "prompt_number": 13
    },
    {
     "cell_type": "code",
     "collapsed": false,
     "input": [
      "# Let's look at the first few host halos\n",
      "print(t[0:4])"
     ],
     "language": "python",
     "metadata": {},
     "outputs": [
      {
       "output_type": "stream",
       "stream": "stdout",
       "text": [
        "halo_upid    halo_spin        halo_mvir     halo_id halo_hostid\n",
        "--------- --------------- ----------------- ------- -----------\n",
        "       -1  0.754047265442 9.94889100714e+14  851294      851294\n",
        "       -1  0.924572346108 1.85189904768e+14  239567      239567\n",
        "       -1 0.0199763951623 6.80393364473e+14  388717      388717\n",
        "       -1  0.460656430138 9.24647901528e+14  405093      405093\n"
       ]
      }
     ],
     "prompt_number": 14
    },
    {
     "cell_type": "code",
     "collapsed": false,
     "input": [
      "# Let's look at the last few subhalos\n",
      "print(t[-4:])"
     ],
     "language": "python",
     "metadata": {},
     "outputs": [
      {
       "output_type": "stream",
       "stream": "stdout",
       "text": [
        "halo_upid    halo_spin      halo_mvir    halo_id halo_hostid\n",
        "--------- --------------- -------------- ------- -----------\n",
        "   459611 0.0892823450615 185820465045.0  267854      459611\n",
        "   466199  0.838745101944  94361004982.8  265674      466199\n",
        "   653632  0.324462978893 527228852302.0  819523      653632\n",
        "   255469  0.263896149803 463675248755.0  868507      255469\n"
       ]
      }
     ],
     "prompt_number": 15
    },
    {
     "cell_type": "markdown",
     "metadata": {},
     "source": [
      "Ok, here's why we did that. We're going to sort our halo table now. And we're going to do a \"double-sort\". First, we run a sort on *halo_hostid*, so that the first entries of the table have  the smallest value of this column. Then, **within each halo_hostid grouping**, we'll sort on *halo_upid*. That's a complicated set of operations, and there's an optimized sorting routine built into Astropy tables that handles it for us:"
     ]
    },
    {
     "cell_type": "code",
     "collapsed": false,
     "input": [
      "t.sort(['halo_hostid', 'halo_upid'])"
     ],
     "language": "python",
     "metadata": {},
     "outputs": [],
     "prompt_number": 16
    },
    {
     "cell_type": "markdown",
     "metadata": {},
     "source": [
      "Now our table has the following very convenient organization. Each collection of hosts + subs belonging to the same system are grouped together, always such that the host halo appears first in each new system:"
     ]
    },
    {
     "cell_type": "code",
     "collapsed": false,
     "input": [
      "print(t[0:15])"
     ],
     "language": "python",
     "metadata": {},
     "outputs": [
      {
       "output_type": "stream",
       "stream": "stdout",
       "text": [
        "halo_upid    halo_spin        halo_mvir     halo_id halo_hostid\n",
        "--------- --------------- ----------------- ------- -----------\n",
        "       -1  0.402073174623 4.99990929889e+14       1           1\n",
        "        1 0.0798698393231    835512037705.0  351300           1\n",
        "        1  0.777018610241    581150622886.0  733607           1\n",
        "        1  0.350690403961    639606843490.0  797703           1\n",
        "        1  0.169625992525    868309783599.0  889147           1\n",
        "       -1  0.386449056077 4.17451874815e+14       4           4\n",
        "        4  0.467229265235    481114479360.0  739414           4\n",
        "        4 0.0798266726027     12927986202.0  165820           4\n",
        "        4  0.796153705862    745082431916.0  975613           4\n",
        "       -1   0.85311549077 4.00655769168e+14       7           7\n",
        "        7  0.829036436938    468215932397.0  403122           7\n",
        "       -1  0.975116824642 3.88897272314e+14      24          24\n",
        "       24   0.16553296328    477825815203.0  249612          24\n",
        "       24  0.544433066537    315169044803.0  891925          24\n",
        "       24  0.818954514836    246706162283.0  960931          24\n"
       ]
      }
     ],
     "prompt_number": 17
    },
    {
     "cell_type": "markdown",
     "metadata": {},
     "source": [
      "## Using Numpy in group-aggregation calculations"
     ]
    },
    {
     "cell_type": "markdown",
     "metadata": {},
     "source": [
      "Numpy comes with an extremely useful and terrifically fast method `np.unique` that can be used on data organized as above:"
     ]
    },
    {
     "cell_type": "code",
     "collapsed": false,
     "input": [
      "halo_ids_of_hosts, idx_hosts, host_richness = np.unique(t['halo_hostid'].data, \n",
      "                                                        return_index = True, \n",
      "                                                        return_counts = True)    \n",
      "\n",
      "# using the .data attribute is an optimization trick\n",
      "# It turns out that looping over a Numpy array is *much* faster \n",
      "# than looping over the same data formatted as an Astropy Column \n",
      "# For any Astropy column, such as t['halo_hostid'], you can always \n",
      "# access the underlying Numpy array buffer using .data \n",
      "# Doing things this way, the returned objects \n",
      "# halo_ids_of_hosts and idx_hosts are Numpy arrays, \n",
      "# not Astropy Columns. \n",
      "# This choice has no impact on correctness, and if you omitted the .data \n",
      "# you'd get exactly the same numerical results. \n",
      "# But doing things this way, the code that follows \n",
      "# will run 2-3 times faster"
     ],
     "language": "python",
     "metadata": {},
     "outputs": [],
     "prompt_number": 18
    },
    {
     "cell_type": "markdown",
     "metadata": {},
     "source": [
      "Here's what that did. It looped over the *halo_hostid* column of our table and returned the set of distinct elements of this column; we stored that result in the *halo_ids_of_hosts* array. \n",
      "\n",
      "By setting the *return_index* argument to `True`, `np.unique` also returned the *indices* of the arrays where the *halo_hostid* attained each of these unique values. \n",
      "\n",
      "Finally, by setting *return_counts* to `True`, `np.unique` returned the total number of appearances of each unique value of the *halo_hostid* column. \n",
      "\n",
      "Let's compare the table printed above to each of these arrays to make sure `np.unique` does what I just said it does:"
     ]
    },
    {
     "cell_type": "code",
     "collapsed": false,
     "input": [
      "print(halo_ids_of_hosts[0:3])"
     ],
     "language": "python",
     "metadata": {},
     "outputs": [
      {
       "output_type": "stream",
       "stream": "stdout",
       "text": [
        "[1 4 7]\n"
       ]
      }
     ],
     "prompt_number": 19
    },
    {
     "cell_type": "code",
     "collapsed": false,
     "input": [
      "print(idx_hosts[0:3])"
     ],
     "language": "python",
     "metadata": {},
     "outputs": [
      {
       "output_type": "stream",
       "stream": "stdout",
       "text": [
        "[0 5 9]\n"
       ]
      }
     ],
     "prompt_number": 20
    },
    {
     "cell_type": "code",
     "collapsed": false,
     "input": [
      "print(host_richness[0:3])"
     ],
     "language": "python",
     "metadata": {},
     "outputs": [
      {
       "output_type": "stream",
       "stream": "stdout",
       "text": [
        "[5 4 2]\n"
       ]
      }
     ],
     "prompt_number": 21
    },
    {
     "cell_type": "markdown",
     "metadata": {},
     "source": [
      "### Computing Mhost"
     ]
    },
    {
     "cell_type": "markdown",
     "metadata": {},
     "source": [
      "Ok, now let's use the results of `np.unique` to create a new column for our table, `Mhost`. For host halos, this column is just equal to `halo_mvir`; for subhalos, this equals the value of `halo_mvir` of the associated host. We'll compute this by looping over the array returned by `np.unique`:"
     ]
    },
    {
     "cell_type": "code",
     "collapsed": false,
     "input": [
      "temp_arr = np.zeros(len(t)) \n",
      "for ihost, host_halo_id in enumerate(halo_ids_of_hosts):\n",
      "    first_ihost_idx = idx_hosts[ihost]\n",
      "    last_ihost_idx = first_ihost_idx + host_richness[ihost]\n",
      "    temp_arr[first_ihost_idx:last_ihost_idx] = t['halo_mvir'][first_ihost_idx]\n",
      "\n",
      "t['Mhost'] = temp_arr"
     ],
     "language": "python",
     "metadata": {},
     "outputs": [],
     "prompt_number": 23
    },
    {
     "cell_type": "code",
     "collapsed": false,
     "input": [
      "print(t[0:15])"
     ],
     "language": "python",
     "metadata": {},
     "outputs": [
      {
       "output_type": "stream",
       "stream": "stdout",
       "text": [
        "halo_upid    halo_spin        halo_mvir     ... halo_hostid       Mhost      \n",
        "--------- --------------- ----------------- ... ----------- -----------------\n",
        "       -1  0.402073174623 4.99990929889e+14 ...           1 4.99990929889e+14\n",
        "        1 0.0798698393231    835512037705.0 ...           1 4.99990929889e+14\n",
        "        1  0.777018610241    581150622886.0 ...           1 4.99990929889e+14\n",
        "        1  0.350690403961    639606843490.0 ...           1 4.99990929889e+14\n",
        "        1  0.169625992525    868309783599.0 ...           1 4.99990929889e+14\n",
        "       -1  0.386449056077 4.17451874815e+14 ...           4 4.17451874815e+14\n",
        "        4  0.467229265235    481114479360.0 ...           4 4.17451874815e+14\n",
        "        4 0.0798266726027     12927986202.0 ...           4 4.17451874815e+14\n",
        "        4  0.796153705862    745082431916.0 ...           4 4.17451874815e+14\n",
        "       -1   0.85311549077 4.00655769168e+14 ...           7 4.00655769168e+14\n",
        "        7  0.829036436938    468215932397.0 ...           7 4.00655769168e+14\n",
        "       -1  0.975116824642 3.88897272314e+14 ...          24 3.88897272314e+14\n",
        "       24   0.16553296328    477825815203.0 ...          24 3.88897272314e+14\n",
        "       24  0.544433066537    315169044803.0 ...          24 3.88897272314e+14\n",
        "       24  0.818954514836    246706162283.0 ...          24 3.88897272314e+14\n"
       ]
      }
     ],
     "prompt_number": 24
    },
    {
     "cell_type": "markdown",
     "metadata": {},
     "source": [
      "### Computing subhalo number counts"
     ]
    },
    {
     "cell_type": "markdown",
     "metadata": {},
     "source": [
      "Now that we have the basic algorithm in place, we can start riffing on it to calculate other group-aggregation quantities. Here is an example of how to compute a new column storing the number of subhalos in each host. "
     ]
    },
    {
     "cell_type": "code",
     "collapsed": false,
     "input": [
      "temp_arr = np.zeros(len(t)) \n",
      "for ihost, host_halo_id in enumerate(halo_ids_of_hosts):\n",
      "    first_ihost_idx = idx_hosts[ihost]\n",
      "    last_ihost_idx = first_ihost_idx + host_richness[ihost]\n",
      "    temp_arr[first_ihost_idx:last_ihost_idx] = host_richness[ihost] - 1\n",
      "\n",
      "t['Nsub'] = temp_arr"
     ],
     "language": "python",
     "metadata": {},
     "outputs": [],
     "prompt_number": 25
    },
    {
     "cell_type": "code",
     "collapsed": false,
     "input": [
      "print(t[0:15])"
     ],
     "language": "python",
     "metadata": {},
     "outputs": [
      {
       "output_type": "stream",
       "stream": "stdout",
       "text": [
        "halo_upid    halo_spin        halo_mvir     ...       Mhost       Nsub\n",
        "--------- --------------- ----------------- ... ----------------- ----\n",
        "       -1  0.402073174623 4.99990929889e+14 ... 4.99990929889e+14  4.0\n",
        "        1 0.0798698393231    835512037705.0 ... 4.99990929889e+14  4.0\n",
        "        1  0.777018610241    581150622886.0 ... 4.99990929889e+14  4.0\n",
        "        1  0.350690403961    639606843490.0 ... 4.99990929889e+14  4.0\n",
        "        1  0.169625992525    868309783599.0 ... 4.99990929889e+14  4.0\n",
        "       -1  0.386449056077 4.17451874815e+14 ... 4.17451874815e+14  3.0\n",
        "        4  0.467229265235    481114479360.0 ... 4.17451874815e+14  3.0\n",
        "        4 0.0798266726027     12927986202.0 ... 4.17451874815e+14  3.0\n",
        "        4  0.796153705862    745082431916.0 ... 4.17451874815e+14  3.0\n",
        "       -1   0.85311549077 4.00655769168e+14 ... 4.00655769168e+14  1.0\n",
        "        7  0.829036436938    468215932397.0 ... 4.00655769168e+14  1.0\n",
        "       -1  0.975116824642 3.88897272314e+14 ... 3.88897272314e+14  4.0\n",
        "       24   0.16553296328    477825815203.0 ... 3.88897272314e+14  4.0\n",
        "       24  0.544433066537    315169044803.0 ... 3.88897272314e+14  4.0\n",
        "       24  0.818954514836    246706162283.0 ... 3.88897272314e+14  4.0\n"
       ]
      }
     ],
     "prompt_number": 26
    },
    {
     "cell_type": "markdown",
     "metadata": {},
     "source": [
      "### Computing mass-weighted average subhalo spin"
     ]
    },
    {
     "cell_type": "markdown",
     "metadata": {},
     "source": [
      "This example and the next one demo a couple of more complicated examples that you should be able to pattern-match for whatever your use-case is. Here we'll compute the mass-weighted average spin of all the *subhalos* in each group. "
     ]
    },
    {
     "cell_type": "code",
     "collapsed": false,
     "input": [
      "t['mean_subhalo_spin'] = 0.\n",
      "for ihost, host_halo_id in enumerate(halo_ids_of_hosts):\n",
      "    first_ihost_idx = idx_hosts[ihost]\n",
      "    last_ihost_idx = first_ihost_idx + host_richness[ihost]\n",
      "    \n",
      "    subhalo_masses = t['halo_mvir'][first_ihost_idx+1:last_ihost_idx]\n",
      "    subhalo_spins = t['halo_mvir'][first_ihost_idx+1:last_ihost_idx]\n",
      "    \n",
      "    t['mean_subhalo_spin'][first_ihost_idx:last_ihost_idx] = "
     ],
     "language": "python",
     "metadata": {},
     "outputs": [],
     "prompt_number": 26
    },
    {
     "cell_type": "code",
     "collapsed": false,
     "input": [],
     "language": "python",
     "metadata": {},
     "outputs": [],
     "prompt_number": 26
    },
    {
     "cell_type": "code",
     "collapsed": false,
     "input": [],
     "language": "python",
     "metadata": {},
     "outputs": []
    }
   ],
   "metadata": {}
  }
 ]
}